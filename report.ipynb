{
 "cells": [
  {
   "cell_type": "markdown",
   "metadata": {
    "colab_type": "text",
    "id": "view-in-github"
   },
   "source": [
    "<a href=\"https://colab.research.google.com/github/DBaudry/Graph_Matching/blob/DB/report.ipynb\" target=\"_parent\"><img src=\"https://colab.research.google.com/assets/colab-badge.svg\" alt=\"Open In Colab\"/></a>"
   ]
  },
  {
   "cell_type": "markdown",
   "metadata": {
    "colab_type": "text",
    "id": "b1J3HaX6QTnm"
   },
   "source": [
    "# Compress Sensing - Project report\n",
    "###* Dorian Baudry, Alexandre Filiot - March 2019 *\n",
    "\n",
    "https://v2.overleaf.com/project/5c76c42c2a7f6e16e20a03f8\n"
   ]
  },
  {
   "cell_type": "markdown",
   "metadata": {
    "colab_type": "text",
    "id": "9iJBJ47RGFiA"
   },
   "source": [
    "## Abstract\n"
   ]
  },
  {
   "cell_type": "markdown",
   "metadata": {
    "colab_type": "text",
    "id": "RK5dIMOlEEnf"
   },
   "source": [
    "As part of the course on compress sensing, we studied the 2 following articles: \"Balanced Graph Matching\" from Cour et al. (2006) and \"A Fast Semidefinite Approach to Solving Binary Quadratic Problems\" from Wang et al. (2013). We mainly focused on the first article... (**à voir selon notre état d'avancement**).  \n",
    "\n"
   ]
  },
  {
   "cell_type": "code",
   "execution_count": 1,
   "metadata": {
    "colab": {},
    "colab_type": "code",
    "id": "O5O5KkPKS2j0"
   },
   "outputs": [],
   "source": [
    "import numpy as np\n",
    "from scipy.linalg import eigh\n",
    "from copy import copy\n",
    "import cvxopt as cvx\n",
    "from tqdm import tqdm_notebook as tqdm\n",
    "from itertools import combinations\n",
    "import matplotlib.pyplot as plt\n",
    "%matplotlib inline"
   ]
  },
  {
   "cell_type": "markdown",
   "metadata": {
    "colab_type": "text",
    "id": "IQt4pMJxdMJ_"
   },
   "source": [
    "## Introduction \n",
    "\n",
    "\n",
    "The topic under scrutiny is about graph matching. Graphs have been widely used in various computer vision applications and machine learning for their ability to conveniently and efficiently represent object. Once graph-based representations are constructed, it is essential to know how to compare graphs. Whether in order to quantify the similarity between the latter (for applications in supervised or unsupervised classification) or, mostly, detect similar parts (identification of similar interesting patterns in the data). That is what graph matching aims at: seeking a mapping between vertices of two graphs which optimally aligns their structure. For example, one can cite the task of 2D and 3D shapes matching or deformable objects matching. In those applications, a test object is compared to a set of template ones. Each of those images is fully characterized by a graph whose nodes represent feature points (like spatial location, orientation and any useful image feature descriptors) and edges represent relationships between feature points. More broadly, the features could consist of points, lines, shape descriptors or interest points, depending on the specific application.\n",
    "\n",
    "Classical formulations of graph matching problems concern one-to-one correspondences between graphs. However, it is more accurate to consider at least one-to-many correspondances as graphs rarely match perfectly. Indeed,  a given point from the test image can be related to a cluster of nodes in the template image graph rather than only one point. For example, a point from the test image can match a set of points from the template images depending which characterize the same part of the image but with slightly different attributes due to noise or object view. One-to-one, one-to-many or many-to-many matching problems can be formulated as a discrete optimization problem where the objective function to maximize in the overall similarity, or affinity, of matched edge attributes. Despite some restricted settings where this problem can be solved exactly like bipartite matching, this combinatorial problem is NP-hard for general graphs (the original proof can be found in \"Computationally related problems\" from S. Sahni, 1974). As underlined by Cour et al., most of the recent literature has been focusing on the development of approximate methods which are able to find a \"good\" solution in reasonable time. In particular, efforts have been put in solving a continuous relaxation of the discrete optimization problem such that Semi Definite Programming, Graduated Assignment or Spectral Matching, methods that we will discuss later on.\n",
    "\n",
    "The main contribution of Cour et al. is twofold. First, the authors propose to incorporate some of the one-to-one or one-to-many mapping constraints as affine constraints during the discretization step. In order to do so, they use a problem called Affinely Constrained Rayleigh Quotients. The second contribution is the bistochastic normalization of the graph matching compatibility matrix which aims at improving the overall matching performance. \n",
    "\n",
    "\n",
    "<center><img src=\"http://specmatch.gforge.inria.fr/SpecMatch/illustration.jpg\"  width=\"450\" ></center>\n",
    "<center> Figure 1: Example of moving objects matching using graph matching. Source: INRIA/INPG. </center>"
   ]
  },
  {
   "cell_type": "markdown",
   "metadata": {
    "colab_type": "text",
    "id": "djbuNwtwdD9a"
   },
   "source": [
    "## Problem formulation"
   ]
  },
  {
   "cell_type": "markdown",
   "metadata": {
    "colab_type": "text",
    "id": "jgakUWvzdTFK"
   },
   "source": [
    "Graph matching problems are based on the notion of *attributed graph*. Namely, an attributed graph $G$ is characterised by the triplet $(V, E, A)$ where $V$ is the set of vertices, $E$ the set of edges and $A$ the set of attributes. To each edge $e=ij \\in E$ is assigned an attribute $A_e \\in \\mathbb{R}^d$ with $d\\geq1$. Vertex attributes are spectial edge attributes, denoted as $A_{ii}$ for vertex $i$. As said earlier, $A_e$ can be a real number or a vector. In the case of image segmentation, one can see nodes as features points (or super-pixels) characterised by their location, orientation or any useful image feature descriptors (here, the $A_{ii}$'s). An edge $e=ij$ indicates that their exists a relationship between points $i$ and $j$, which is described by an attribute $A_e$ related to their relative position, orientation, etc...\n",
    "\n",
    "The question is, how can we quantify the matching between two graphs ? Now, we need to introduce the notion of *graph matching cost*. Let $G=(V, E, A)$ and $G'=(V', E', A')$ be two attributed graphs. The goal of graph matching is to find a mapping between $V$ and $V'$ that best aligns the attributes between edges $e=ij \\in E$ and edges $e'=i'j' \\in E'$. We are looking at maximising the *graph matching score*, defined as follows :\n",
    "\\begin{equation}\n",
    "    \\tag{1}\n",
    "    \\epsilon_{\\text{GM}}(M) = \\displaystyle \\sum_{ii' \\in M, jj' \\in M} f\\big(A_{ij}, A'_{i'j'}\\big)\n",
    "\\end{equation} where $M$ is matrix of correspondences:  $M_{ii'} = 1 $ if their exists a mapping between vertex $i$ and $i'$, $0$ otherwise. $f(\\cdot, \\cdot)$ is a measure of similarity between edge attributes. As a particular case, $f(A_{ii}, A'_{i'i'})$ is the score associated with the match $ii'$ which is a vertices match (and not an edge match). From now on, we will note $n=|V|, m=|E|, n'=|V'|, $ and $m'=|E'|$. \n",
    "\n",
    "At last, we need to rewrite $(1)$ as a more workable optimization problem. The first step is to flatten the matrix $M$ into a binary vector $x \\in \\{0,1\\}^{nn'}$ where $x_{ii'}=1$ iff $ii' \\in M$ and $0$ otherwise. Then, one should introduce  *mapping constraints*. These constraints are related to the structure of the graphs matching : one-to-one or one-to-many matching. "
   ]
  },
  {
   "cell_type": "markdown",
   "metadata": {
    "colab_type": "text",
    "id": "kjTirk4MYBkA"
   },
   "source": [
    "We propose a simple representation of the graphs in our algorithm, using a tuple containing three objects:\n",
    "* Size of the graph $n$, each nodes being assigned a number $i \\in [1, n]$\n",
    "* List of the edges $[e_1, e_2,..., e_m ]$, with $e_i=(e_{i,0}, e_{i,1})$\n",
    "* Attribute matrix $(A_{ij})_{i,j}$ representing the attributes of each vertice (in the diagonal) and each edge in the graph\n",
    "\n",
    "Using these objects, we can build the compatibility matrix between two graphs with the following function:"
   ]
  },
  {
   "cell_type": "code",
   "execution_count": 2,
   "metadata": {
    "colab": {},
    "colab_type": "code",
    "id": "rG0ozoVlZMij"
   },
   "outputs": [],
   "source": [
    "def get_compatibility_matrix(G1, G2, func):\n",
    "    n1, edge_1, A1 = G1[:3]\n",
    "    n2, edge_2, A2 = G2[:3]\n",
    "    W = np.zeros((n1 * n2, n1 * n2))\n",
    "    for e1 in edge_1:\n",
    "        for e2 in edge_2:\n",
    "            score = func(A1[e1[0], e1[1]], A2[e2[0], e2[1]])\n",
    "            # each of the four representations of the edges is assigned a fourth of the score\n",
    "            W[n2*e1[0]+e2[0], n2*e1[1]+e2[1]] = score/4\n",
    "            W[n2*e1[1]+e2[0], n2*e1[0]+e2[1]] = score/4\n",
    "            W[n2*e1[0]+e2[1], n2*e1[1]+e2[0]] = score/4\n",
    "            W[n2*e1[1]+e2[1], n2*e1[0]+e2[0]] = score/4\n",
    "    for i in range(n1):\n",
    "        for j in range(n2):\n",
    "            W[n2*i+j, n2*i+j] = func(A1[i, i], A2[j, j])\n",
    "    return W"
   ]
  },
  {
   "cell_type": "markdown",
   "metadata": {
    "colab_type": "text",
    "id": "HoJSQKQ6ZX4C"
   },
   "source": [
    "Note that we consider undirected graphs in this notebook, so for any symmetric comparison function a single combination will lead to 4 values in the compatibility matrix. For this reason, we decided to weights these 4 values by 1/4 in order to stay in track with the initial problem. "
   ]
  },
  {
   "cell_type": "markdown",
   "metadata": {
    "colab_type": "text",
    "id": "iHuqHMLvdTHq"
   },
   "source": [
    "### One-to-one matching"
   ]
  },
  {
   "cell_type": "markdown",
   "metadata": {
    "colab_type": "text",
    "id": "IH7QYI3fdTLS"
   },
   "source": [
    "In this section, we focus on the one-to-one formulation, i.e. $n=n'$. If $n \\neq n'$, we can always add dummy nodes with no connection to the smallest graph. For this particular setting, $M$ is a $n\\times n$ matrix. The one-to-one matching constraint can formally be represented as $M$ being a permutation matrix. Indeed, $M$ is a binary matrix verifying $M \\mathbf{1}_n = M^\\top  \\mathbf{1}_n =  \\mathbf{1}_n$. Using $x$, we see that those constraints can be written as  elementwise and\n",
    "\\begin{equation}\n",
    "\\tag{2}\n",
    " \\displaystyle \\sum_{i' \\in E'} x_{ii'} = 1, \\hspace{2cm} \\displaystyle \\sum_{i \\in E} x_{i'i} = 1 ,  \\hspace{2cm} x \\in \\{0, 1\\}^{n\\times n}\n",
    "\\end{equation}\n",
    "For this first case, problem $(1)$ can be rewritten as an Integer Quadratic Program (IQP):\n",
    "\\begin{equation}\n",
    "    \\max_{x} x^{\\top}Wx \\hspace{0.5cm} \\text{s.t.} \\hspace{0.5cm} (2)\n",
    "\\end{equation} where $W$ is a $n^2 \\times n^2$ **compatibility matrix** with $W_{ii', jj'} = f\\big(A_{ij}, A'_{i'j'}\\big)$. "
   ]
  },
  {
   "cell_type": "markdown",
   "metadata": {
    "colab_type": "text",
    "id": "8vfrjX9aXWzo"
   },
   "source": [
    "We ran all of our experiments with this problem. So we propose here some functions to build the constraints matrix, that will be used for instance for the SMAC algorithm."
   ]
  },
  {
   "cell_type": "code",
   "execution_count": 16,
   "metadata": {
    "colab": {},
    "colab_type": "code",
    "id": "Mb-t1nDTXpx4"
   },
   "outputs": [
    {
     "data": {
      "text/plain": [
       "(array([[1., 1., 1., 1., 0., 0., 0., 0., 0., 0., 0., 0., 0., 0., 0., 0.],\n",
       "        [0., 0., 0., 0., 1., 1., 1., 1., 0., 0., 0., 0., 0., 0., 0., 0.],\n",
       "        [0., 0., 0., 0., 0., 0., 0., 0., 1., 1., 1., 1., 0., 0., 0., 0.],\n",
       "        [0., 0., 0., 0., 0., 0., 0., 0., 0., 0., 0., 0., 1., 1., 1., 1.],\n",
       "        [1., 0., 0., 0., 1., 0., 0., 0., 1., 0., 0., 0., 1., 0., 0., 0.],\n",
       "        [0., 1., 0., 0., 0., 1., 0., 0., 0., 1., 0., 0., 0., 1., 0., 0.],\n",
       "        [0., 0., 1., 0., 0., 0., 1., 0., 0., 0., 1., 0., 0., 0., 1., 0.]]),\n",
       " array([1., 1., 1., 1., 1., 1., 1., 1.]))"
      ]
     },
     "execution_count": 16,
     "metadata": {},
     "output_type": "execute_result"
    }
   ],
   "source": [
    "def get_1t1_constraints(n):\n",
    "    \"\"\"\n",
    "    :param n: shape of the affinity matrix\n",
    "    :return:\n",
    "    \"\"\"\n",
    "    n_tot = n**2\n",
    "    C0 = np.zeros((n, n_tot))\n",
    "    C1 = np.zeros((n, n_tot))\n",
    "    b = np.ones(2*n)\n",
    "    for i in range(n):\n",
    "        for k in range(n):\n",
    "            C0[i, n*i+k] = 1\n",
    "            C1[i, n*k+i] = 1\n",
    "    return np.vstack((C0, C1[:-1])), b\n",
    "\n",
    "n=4\n",
    "get_1t1_constraints(n)"
   ]
  },
  {
   "cell_type": "markdown",
   "metadata": {
    "colab_type": "text",
    "id": "yW21uqelaMK9"
   },
   "source": [
    "We also propose a function to compute a random permutation matrix, that will be useful to get a starting vector for the Graduated Assignment algorithm.\n"
   ]
  },
  {
   "cell_type": "code",
   "execution_count": 4,
   "metadata": {
    "colab": {},
    "colab_type": "code",
    "id": "jIMNOpDCabA2"
   },
   "outputs": [],
   "source": [
    "def random_permutation_matrix(n):\n",
    "    \"\"\"\n",
    "    :param n: shape of the squared matrix\n",
    "    :return: nxn permutation matrix\n",
    "    \"\"\"\n",
    "    r = np.arange(n)\n",
    "    np.random.shuffle(r)\n",
    "    m = np.zeros((n, n))\n",
    "    for i, x in enumerate(r):\n",
    "        m[i, x] = 1\n",
    "    return m.flatten()"
   ]
  },
  {
   "cell_type": "markdown",
   "metadata": {
    "colab_type": "text",
    "id": "EsNVhTGjdTPa"
   },
   "source": [
    "### One-to-many matching"
   ]
  },
  {
   "cell_type": "markdown",
   "metadata": {
    "colab_type": "text",
    "id": "fdsaijYOjsOt"
   },
   "source": [
    "Here, we suppose that, for example, $G$ has less vertices that $G'$, namely $n < n'$. Our goal is to find a matching that associates each vertex of $G$ with one or more vertices of $G'$ in such a way that each vertex of $G'$ is matched to a vertex of $G$. Now, the constraints are modified such that $M$ is a binary matrix verifying $M^\\top \\mathbf{1}_n =  \\mathbf{1}_{n'}, M  \\mathbf{1}_{n'} \\geq  \\mathbf{1}_{n}$ and $M  \\mathbf{1}_{n'} \\leq K  \\mathbf{1}_{n}$ where $K$ is the maximum number of matches from one vertex of $G$ to some vertices of $G'$. Using $x$, the previous constraint can be rewritten as: \n",
    "\n",
    "\\begin{equation}\n",
    "\\tag{3}\n",
    " \\displaystyle \\displaystyle \\sum_{i \\in E} x_{i'i} = 1 ,\\hspace{1cm}   \\sum_{i' \\in E'} x_{ii'} \\geq 1\\hspace{1cm} \\sum_{i' \\in E'} x_{ii'} \\leq K, \\hspace{1cm} x \\in \\{0, 1\\}^{n\\times n'}\n",
    "\\end{equation} \n",
    "\n",
    "For this second case, problem $(1)$ can still be rewritten as an IQP with different affine constraints:\n",
    "\\begin{equation}\n",
    "    \\max_{x} x^{\\top}Wx \\hspace{0.5cm} \\text{s.t.} \\hspace{0.5cm} (3)\n",
    "\\end{equation} where $W$ is a $nn' \\times nn'$ **compatibility matrix** with $W_{ii', jj'} = f\\big(A_{ij}, A'_{i'j'}\\big)$. \n",
    "\n",
    "____\n",
    "From now on and for simplicity purpose, we will rewrite problem $(1)$ as\n",
    "\n",
    "\\begin{equation}\n",
    "\\tag{4}\n",
    "    \\max_{x} x^{\\top}Wx \\hspace{0.5cm} \\text{s.t.} \\hspace{0.5cm} Cx \\leq b, \\hspace{2cm} x \\in \\{0,1\\}^{nn'}\n",
    "\\end{equation}\n",
    "___"
   ]
  },
  {
   "cell_type": "markdown",
   "metadata": {
    "colab_type": "text",
    "id": "Ogs2Tl53dTSi"
   },
   "source": [
    "Problem $(4)$ is NP-hard and one need to relax some constraints in order to approximate the optimal solutions in a polynomial time. State of the art matching algorithms uses continuous *graph matching relaxations* to do so. They relax the original IPQ into a continuous program ($x$ is not binary anymore) and then use discretization method. In other words, each of them relax the 0/1 integer constraint $x \\in \\{0,1\\}$."
   ]
  },
  {
   "cell_type": "markdown",
   "metadata": {
    "colab_type": "text",
    "id": "SX6rWJZ5-Oz6"
   },
   "source": [
    "<center><img src=\"data:image/png;base64,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\"  width=\"350\" ></center>\n",
    "<center> Figure 2: Example of matching compatibility matrix $W$ and edge similarity matrix $S$. Source: Cour et al. (2005). </center>\n"
   ]
  },
  {
   "cell_type": "markdown",
   "metadata": {
    "colab_type": "text",
    "id": "zZTiALEjdTU9"
   },
   "source": [
    "## Benchmark algorithms"
   ]
  },
  {
   "cell_type": "markdown",
   "metadata": {
    "colab_type": "text",
    "id": "sX-uvuQDqfvE"
   },
   "source": [
    "### SDP relaxation"
   ]
  },
  {
   "cell_type": "markdown",
   "metadata": {
    "colab_type": "text",
    "id": "ZBmg1z2bAa3s"
   },
   "source": [
    "SDP relaxation applied to graph matching is proposed by Schellewald et al. in \"Probabilistic subgraph matching based on convex relaxation\" (2005). The goal here is to make the objective  and the constraints convex through the introduction of semi-definite positive matrices. Namely, the first step of SDP relaxation is to rewrite the objective as an matrix inner product: \n",
    "$$x^\\top W x = \\langle X, W_{eq} \\rangle_F = \\text{Tr}(W_{eq}^\\top X)$$ where\n",
    "X = $$\n",
    "\\left( \\begin{array}{cc}\n",
    "1  \\\\\n",
    "x \n",
    "\\end{array} \\right)\n",
    "%\n",
    "\\left( \\begin{array}{cc}\n",
    "1 & x^\\top \\\\\n",
    "\\end{array} \\right)\n",
    "= \\left( \\begin{array}{cc}\n",
    "1 & x^\\top \\\\\n",
    "x & xx^\\top\n",
    "\\end{array} \\right)$$ and  $$W_{eq} = \\left( \\begin{array}{cc}\n",
    "0 & d^\\top /2 \\\\\n",
    "d/2 & W-D \n",
    "\\end{array} \\right) = W_{eq}^\\top$$ where $d=\\text{diag}(W)$ and $D$ is a diagonal matrix with diagonal $d$. The following formulation can be rapidly check as: \n",
    "$$ \\text{Tr}(W_{eq}^\\top X) = \\text{Tr}(W_{eq} X) = \\text{Tr}\\left( \\begin{array}{cc}\n",
    "d^\\top x/2& d^\\top xx^\\top /2  \\\\\n",
    "d/2 + (W-D)x & dx^\\top /2 + (W-D)xx^\\top\n",
    "\\end{array} \\right)$$ The previous expression is then equal to:\n",
    "$$\\text{Tr}(dx^\\top) + \\text{Tr}(x^\\top W x) - \\text{Tr}(x^\\top D x)$ = x^\\top W x - \\displaystyle \\sum_i^{nn'} d_i(x_i-x_i^2)$$ using commutativity of the trace. At last, one may remark that $x$ being an integer vector, $x_i^2=x_i \\, \\forall \\, i$ so it shows that the SDP relaxation is valid. \n",
    "Now, besides being symmetric, the matrix $X$ is positive semidefinite with rank $1$. SDP relaxation relax the rank $1$ non-convex condition in order to only require that $X$ is positive semi-definite. Thus, program $(4)$ now becomes:\n",
    "\\begin{equation}\n",
    "\\tag{SDP}\n",
    "    \\max_{X} \\text{Tr}(W_{eq} X) \\hspace{0.5cm} \\text{s.t.} \\hspace{0.5cm} X \\succeq 0 \\hspace{0.5cm} \\text{and} \\hspace{0.5cm} (\\star)\n",
    "\\end{equation} where now the set of $X$ is the set of psd matrices which is convex (it can be shown using the basic property of convexity). Nevertheless, we still need to treat the constraints $(\\star)$ and incorporate the latter into the SDP relaxation by specifying appropriate constraint matrices. We wish thos SDP constraints to have the form:\n",
    "$$\\text{Tr}(C_{eq}^{(i)} X) \\leq b_{eq}^{(i)} $$ for suitable $C_{eq}^{(i)} $ and $b_{eq}^{(i)}$. \n"
   ]
  },
  {
   "cell_type": "markdown",
   "metadata": {
    "colab_type": "text",
    "id": "hIltLXQgMk76"
   },
   "source": [
    "*   First, we have to deal with the first constraint that results from the homogeneization of the problem, namely, the first element of $X$ equal $1$ : $X_{11}=1$. This can be expressed as:\n",
    "$$C_{eq, kl}^{(1)} = \\delta_{k1}\\delta_{l1} \\hspace{0.5cm} \\text{for} \\hspace{0.5cm}  k, l = 1,..., nn'+1$$ and $$b_{eq}^{(1)} = 1$$\n",
    "\n",
    "\n",
    "*   The second constraint is derived from the integer constraints $x_i \\in \\{0,1\\}, i=1,..., nn'+1$, which can be rewritten as $x_i^2=x_i$. Therefore, the elements on the diagonal of $X$ are equal to the ones in the first column and row of $X$ (this can be easily seen by just writting $X$). The consequence of this observation is that the 0/1 integer constraint can be enforced in the relaxed problem by requiring the first column and row of $X$ to be equal to its diagonal. To do so, one may follow closely the article from Schellewald (2005). The authors propose to introduce $nn'$ constraint matrices $C_{eq}^{(j)}$ for $j=2,...,nn'+1$ whose elements verify:\n",
    "$$C_{eq, kl}^{(j)} = 2 \\delta_{kj} \\delta_{lj} - \\delta_{kj} \\delta_{l1} - \\delta_{lj} \\delta_{k1} \\hspace{0.5cm} \\text{for} \\hspace{0.5cm} k,l=1,...,nn'+1$$\n",
    "These matrices have thus a $2$ at the corresponding $j$-th diagonal and $-1$ at the corresponding elements in the first column and the first row. And zeros everywhere else. Then, $\\text{Tr}(C_{eq}^{(j)} X) = 2(x_j^2-x_j)$ which, to fit the 0/1 integer constraints, has to be equal to $0$. Hence, \n",
    "$$b_{eq}^{(j)} =0$$\n",
    " "
   ]
  },
  {
   "cell_type": "markdown",
   "metadata": {
    "colab_type": "text",
    "id": "TN3eDZNQTjrw"
   },
   "source": [
    "* The third constraint to take into account comes from the mapping constraints. Namely, we should have that $\\displaystyle \\sum_{i=1}^n x_{i'i}=1$ for all $i'=1,...,n'$. To recall, these constraint represent the fact that each node of the bigger graph (here we take $G'$) is mapped to exactly one node of $G$, the smaller graph here. We need once again to exploit the fact that $x_i=x_i^2$. Indeed, our previous condition can be written as $\\displaystyle \\sum_{i=1}^n x_{ii'}^2=1$ for all $i'=1,...,n'$. Thus, the intuition is that, for a given $i'$, we should multiply the diagonal elements $x_{ii'}^2$ from matrix $X$ by one and then force the sum to be equal to $1$. More formally, if we set $C_{eq}^{(j)}$ for $j=1,...,n'$ such that:\n",
    "$$C_{eq, kl}^{(j)} = \\displaystyle \\sum_{i=(j-1)n+1}^{jn+1} \\delta_{ik} \\delta_{il} \\hspace{0.5cm} \\text{for} \\hspace{0.5cm} k,l=1,...,nn'+1$$ and $$b_{eq}^{(j)}=1$$ Then $\\text{Tr}(C_{eq}^{(j)}X)=b_{eq}^{(j)}$ is equivalent to the original condition. "
   ]
  },
  {
   "cell_type": "markdown",
   "metadata": {
    "colab_type": "text",
    "id": "Ji44IT4Q-_dR"
   },
   "source": [
    "* The fourth constraint is relative to the one-to-many constraints. Namely, we should also have that $\\displaystyle \\sum_{i'=1}^{n'} x_{ii'} \\geq 1$ for all $i=1,...,n$. It means that one vertex of the smaller graph (say $G$) can map at least one vertex of $G'$. The reasoning is quite similar to the previous one, except that now we will require the diagonal elements separated by $n'$ elements to sum to $1$. More formally, if we set $C_{eq}^{(j)}$ for $j=1,...,n$ such that:\n",
    "$$C_{eq, kl}^{(j)} = \\displaystyle \\sum_{i=1}^{n'+1} \\delta_{(i-1)n'+j,k} \\delta_{(i-1)n'+j,l} \\hspace{0.5cm} \\text{for} \\hspace{0.5cm} k,l=1,...,nn'+1$$ and $$b_{eq}^{(j)}=1$$ Then $\\text{Tr}(C_{eq}^{(j)}X) \\geq b_{eq}^{(j)}$ is equivalent to the original condition. \n",
    "\n",
    "* The last condition, $\\displaystyle \\sum_{i'=1}^{n'} x_{ii'} \\leq K$ for all $i=1,...,n$ uses the negation of the same constraint matrices as above such that: \n",
    "$C_{eq}^{(j)}$ for $j=1,...,n$ such that:\n",
    "$$C_{eq, kl}^{(j)} = - \\displaystyle \\sum_{i=1}^{n'+1} \\delta_{(i-1)n'+j,k} \\delta_{(i-1)n'+j,l} \\hspace{0.5cm} \\text{for} \\hspace{0.5cm} k,l=1,...,nn'+1$$ and $$b_{eq}^{(j)}=-K$$ Then $\\text{Tr}(C_{eq}^{(j)}X) = - \\text{Tr}(-C_{eq}^{(j)}X) \\geq b_{eq}^{(j)}=-K$ is equivalent to the original condition by multiplying this inequality by $-1$. "
   ]
  },
  {
   "cell_type": "markdown",
   "metadata": {
    "colab_type": "text",
    "id": "WW057dTRHEaa"
   },
   "source": [
    "As a conclusion, the SDP relaxation introduces $1+nn'+n'+2n=(1+n)(1+n')+n:=k$ convex constraints in addition to $X \\succeq 0$. Finally, the relaxed program becomes:\n",
    "\\begin{equation}\n",
    "\\tag{SDP}\n",
    "    \\max_{X} \\text{Tr}(W_{eq} X) \\hspace{0.5cm} \\text{s.t.} \\hspace{0.5cm} X \\succeq 0 \\hspace{0.5cm} \\text{and} \\hspace{0.5cm}\\text{Tr}(C_{eq}^{(i)} X) \\leq b_{eq}^{(i)} \\, \\, \\text{for} \\, \\, i=1,...,k\n",
    "\\end{equation} and $k$ the number of constraints."
   ]
  },
  {
   "cell_type": "markdown",
   "metadata": {
    "colab_type": "text",
    "id": "UbWrlUcWZrRi"
   },
   "source": [
    "### Gradiated Assignment (GA)"
   ]
  },
  {
   "cell_type": "markdown",
   "metadata": {
    "colab_type": "text",
    "id": "j7eIwsBgLEH6"
   },
   "source": [
    "The graduated assignment technique for one-to-many graph matching problems has been originally proposed by Gold et al. in \"A graduated assignment algorithm for graph matching\" (1996). Here, the term assignment refers to a correspondence between one set of objects and another. Precisely, an element from matrix $M$ (or vector $x$) is equal to $1$if one set is assigned to (or corresponds to) a given object in the other set. This algorithm will be particularly useful for our implementation and may require a specific attention. Gold et al. (1996) problem formulation is part of *weigthed graph matching* problems. Problem $(4)$ remains unchanged as for the mapping constraints. \n",
    "\n",
    "The authors first recall that the main difficulty of graph matching problem is to satisfy the two-way (or more for one-to-many matching) mapping constraints. First, they ignore the inequality constraints so that the constraint is equivalent to $M$ being a permutation matrix. Indeed, we restrict ourselves to one-to-one matching. This implies that  A permutation matrix is such that it is binary and whose rows and columns add up to one. In other words, we first ignore the slack variables which aim at shifting the inequality constraints to equality constraints. Namely, ... \n",
    "\n",
    "\n",
    "<center><img src=\"https://csdl-images.computer.org/trans/tp/1996/04/figures/i03772.gif\"  width=\"150\" ></center>\n",
    "<center> Figure 3: matrix $M$ with slack variables, equivalent to $x$ being reshape into matrix of size $n\\times n'$. Source: Gold et al. (1996)</center>\n",
    "\n",
    "\n",
    "\n"
   ]
  },
  {
   "cell_type": "markdown",
   "metadata": {
    "colab_type": "text",
    "id": "q9QsrHqqTxUI"
   },
   "source": [
    "We provide below a simple implementation of Graduated Assignment for one to one matching. As we only have equality constraints we do not need to add slack variables here.\n",
    "\n",
    "Note that we do not take advantage of the sparsity here using matrix products instead of computing the gradient and the objective only with the non-zeros values. We choose this formulation for the sake of simplicity as we will only test our function on basic examples where the code is still fast."
   ]
  },
  {
   "cell_type": "code",
   "execution_count": 5,
   "metadata": {
    "colab": {},
    "colab_type": "code",
    "id": "FSgj50LkUb42"
   },
   "outputs": [],
   "source": [
    "def GA_matrix(W, n, x0, b0=0.5, bf=10., br=1.075,\n",
    "              tol0=0.5, tol1=0.05, itermax0=30, itermax1=30, display_step=False):\n",
    "    \"\"\"\n",
    "    :param W: Compatibility matrix\n",
    "    :param n: size the graphs\n",
    "    :param x0: starting assignment\n",
    "    :param b0: starting control parameter\n",
    "    :param bf: upper value of the control parameter\n",
    "    :param br: increase rate for the control parameter\n",
    "    :param tol0: tolerance for convergence of the gradient descent on bistochastic x\n",
    "    :param tol1: tolerance for bistochastic normalization of x\n",
    "    :param itermax0: maximal number of iterations for the gradient descent on bistochastic x\n",
    "    :param itermax1: maximal number of iterations for a single normalization\n",
    "    :param display_step: show x for each control parameter\n",
    "    :return: bistochastic approximation of the solution of 1 to 1 matching\n",
    "    \"\"\"\n",
    "    beta, x = b0, x0\n",
    "    while beta < bf:\n",
    "        err, n_iter = np.inf, 0\n",
    "        while err > tol0 and n_iter < itermax0:\n",
    "            prev_x = copy(x)\n",
    "            Q = np.dot(W, x)\n",
    "            x = np.exp(beta*Q)\n",
    "            err1, n_iter1 = np.inf, 0\n",
    "            x = x.reshape((n, n))\n",
    "            while n_iter1 < itermax1 and err1 > tol1:\n",
    "                prev_x1 = copy(x)\n",
    "                x = np.apply_along_axis(lambda y: y/y.sum(), 0, x)\n",
    "                x = np.apply_along_axis(lambda y: y/y.sum(), 1, x)\n",
    "                err1 = np.sum(np.abs(x-prev_x1)**2)\n",
    "                n_iter1 += 1\n",
    "            x = x.flatten()\n",
    "            x = np.round(x, 6)\n",
    "            err = np.sum(np.abs(x-prev_x)**2)\n",
    "            n_iter += 1\n",
    "        beta *= br\n",
    "        if display_step:\n",
    "            print('beta {}'.format(beta))\n",
    "            print(x.reshape((n, n)))\n",
    "    return np.round(x, 3)\n"
   ]
  },
  {
   "cell_type": "markdown",
   "metadata": {
    "colab_type": "text",
    "id": "AUxndNBbZrj0"
   },
   "source": [
    "### Spectral Matching (SM)"
   ]
  },
  {
   "cell_type": "markdown",
   "metadata": {
    "colab_type": "text",
    "id": "4cgLnVZ3ZrbP"
   },
   "source": [
    "This last relaxation method is based on the work of Leordeanu et al., \"A Spectral Technique for Correspondence Problems Using Pairwise Constraints\" (2005). It has the particularity to relax the mapping constraints and the integral constraints on $x$, such that the optimization problem becomes:\n",
    "\\begin{equation}\n",
    "\\tag{SM}\n",
    "R(x) = x^\\top W x \\hspace{1cm} \\text{s.t.} \\hspace{1cm} \\|x\\|^2 = 1\n",
    "\\end{equation}\n",
    "We see that $R(x) = R(cx)$ with $c$ a scalar. Thus, $R$, called the Rayleigh quotient, is invariant by translation, which allows to just study the special case $\\|x\\|^2=x^\\top x = 1$. Writing the Lagrangian of the program above leads to solving $Wx=\\lambda x$ with $\\lambda$ the Lagrange multiplier. Thus, the critical points of the Rayleigh quotient are the eigenvectors of $W$ with their corresponding eigenvalues. Thus, there could be multiple stationary points for the solution to exist. However, $W$ being non-negative elementwise, we can make use of the Perron-Frobenius theorem. First, let's recall that the elements of $W$, $W_{ii',jj'}=f(A_{ij},A_{i'j'}')$ are taken non-negative in both articles. In Cour et al. experiments, $W_{ii',jj'}=\\exp(-|A_{ij}-A_{i'j'}'|^2) > 0$ $\\forall \\, ij \\in E, i'j' \\in E'$. This allows to apply Perron-Frobenius theorem which has important applications to graph theory. This theorem applies to positive matrices but generalizes to non-negative ones, which is correct here. It states that if $W$ has non-negative entries, then it has a nonnegative real eigenvalue $\\lambda$ which has maximum absolute value among all eigenvalues. This eigenvalue $\\lambda$ has a nonnegative real eigenvector. If we rewrite $R$ evaluated to one of its critical points $x^*$, then $R(x^*)=x^{*^\\top}Wx^* = x^{*^\\top} \\lambda^ *x^* = \\lambda$. From Perron-Frobenius theorem, we know that their exist a unique eigenvalue of $W$, nonnegative, which dominates the other and whom corresponding eigenvector is nonnegative too. Thus, program (SM) can be solved by computing the leading eigenvector, or Perron eigenvector of $W$. As $x^*$ is nonnegative and $\\|x^*\\|^2=1$, then the elements of $x^*$ necessarily lie in the interval $[0,1]$. Leordeanu et al. (2005) argue that their spectral matching method benefits from an important computational gain. The latter coming from the removal of both the mapping constraints and the integral constraints during the optimization step. Those constraints are then incorporated only afterwards during the binarization of the eigenvector. \n",
    "\n",
    "\n",
    "\n",
    "\n"
   ]
  },
  {
   "cell_type": "markdown",
   "metadata": {
    "colab_type": "text",
    "id": "Y1ke4V_8Ux0r"
   },
   "source": [
    "The spectral Matching algorithm is pretty straightforward to implement. Note that the numpy eigensolver can be quite unstable in some situations. In our results we could check that this is not necessarily a problem: the leading eigenvector estimation seem quite accurate in most cases."
   ]
  },
  {
   "cell_type": "code",
   "execution_count": 6,
   "metadata": {
    "colab": {},
    "colab_type": "code",
    "id": "LQFBpBcnUq6z"
   },
   "outputs": [],
   "source": [
    "def SM(W):\n",
    "    \"\"\"\n",
    "    :param W: affinity matrix\n",
    "    :return: leading eigenvector of W if W is non-negative\n",
    "    \"\"\"\n",
    "    l, v = eigh(W)\n",
    "    v = np.round(v, 6)\n",
    "    s = v.sum(axis=0)\n",
    "    for i in range(v.shape[1]):  #remove spurious results\n",
    "        if s[i] == 0:\n",
    "            l[i] = 0\n",
    "    lead_ind = np.argmax(l)\n",
    "    lead_ev = v[:, lead_ind]\n",
    "    return np.abs(lead_ev)"
   ]
  },
  {
   "cell_type": "markdown",
   "metadata": {
    "colab_type": "text",
    "id": "chvI_9Sqqfz8"
   },
   "source": [
    "## Spectral Matching with Affine Constraint (SMAC)"
   ]
  },
  {
   "cell_type": "markdown",
   "metadata": {
    "colab_type": "text",
    "id": "LtEHafd8qf6W"
   },
   "source": [
    "As we said, the first contribution of the authors is to propose a new algorithm, *Spectral Matching with Affine Constraint*. This algorithm is inspired from spectral matching but allows to impose affine constraints $Cx=b$ on the relaxed solution before the discretization step instead of dropping it. Thus, SMAC benefits from the scalability and speed of SM and may provide more effective solution to the graph matching problem through the ability to maintain this constraint. SMAC algorithm solve the following optimization program:\n",
    "\\begin{equation}\n",
    "\\tag{5}\n",
    "    \\max_x \\frac{x^{\\top}Wx}{x^{\\top}x} \\hspace{0.5cm} \\text{s.t.} \\hspace{0.5cm} Cx=b\n",
    "\\end{equation}\n",
    "where $Cx=b$ will be made explicit just after. \n"
   ]
  },
  {
   "cell_type": "markdown",
   "metadata": {
    "colab_type": "text",
    "id": "cWzjPdfvrKuL"
   },
   "source": [
    "### Computational solution"
   ]
  },
  {
   "cell_type": "markdown",
   "metadata": {
    "colab_type": "text",
    "id": "xN924OIhrKzD"
   },
   "source": [
    "\n",
    "The authors define problem (5) as a *Rayleigh Quotient under Affine Constraint* , i.e. a generalization of Rayleigh Quotient:\n",
    "\n",
    "\\begin{equation}\n",
    "\\tag{6}\n",
    "    \\max_x \\epsilon_1(x) = \\frac{x^{\\top}Ax}{x^{\\top}Bx} \\hspace{0.5cm} \\text{s.t.} \\hspace{0.5cm} Cx=b\n",
    "\\end{equation} with $x \\in \\mathbb{R}^p, b\\in \\mathbb{R}^k, B \\succ 0, C \\in \\mathbb{R}^{k\\times p}$ of full rank with $k<n$. This part aims at detailing the computation of the solution.\n",
    "\n",
    "The first step is to transform the affine constraint into a linear constraint $C_{eq}x=0$. We take the particular case $B=I$ in order to fit to our problem (for the general case, we should consider $y=B^{-1/2}x$ to get rid of matrix $B$). Problem $(6)$ is equivalent to:\n",
    "\\begin{equation}\n",
    "\\tag{7}\n",
    "    \\max_{z, t} \\epsilon_2(z, t) = \\frac{z^{\\top}Az}{z^{\\top}z} \\hspace{0.5cm} \\text{s.t.} \\hspace{0.5cm} Cz=tb\n",
    "\\end{equation} where $t \\in \\mathbb{R}$. Indeed, $(z^*, t^*)$ is an optimum of $(7)$ if and only if $x^* = (1/t^*)z^*$ is an optimum of $(6)$. In the case where $t^*=0$, problem $(6)$ has no solution whereas $(7)$ has one. From now on, we suppose that $t^* \\neq 0$. Then, the authors describe three different methods to solve $(7)$. We consider the third one, which is the most computationally efficient (and the one chosen in the article).\n",
    "\n",
    "\n",
    "Let $b_k$ be the last coefficient of vector $b$ and $k$ the number of constraints. We assume without loss of generality that $b_k \\neq 0$ (otherwise we can reorder the rows of $C$ and $b$). The key basis of the method lies in the following equivalence:\n",
    "\n",
    "\n",
    "$$\\Big[\\exists t \\, : \\, Cz = tb \\Big] \\Longleftrightarrow \\Big[ \\forall i \\, \\in \\, [1, k-1], (Cz)_i = (1/b_k)(Cz)_kb_i \\Big]$$\n",
    "\n",
    "Indeed, $t=(Cz)_i / b_i = (Cz)_k / b_k \\, \\, \\forall \\, i \\, \\in \\, [1, k-1]$. Then, for all $i \\, \\in \\, [1, k-1]$,  \n",
    "\\begin{eqnarray}\n",
    "& \\displaystyle \\sum_{\\ell} C_{i\\ell}z_\\ell - \\frac{1}{b_k} \\displaystyle \\sum_\\ell C_{k\\ell}z_\\ell b_i & =  0 \\\\\n",
    "\\Longleftrightarrow & \\displaystyle \\sum_{\\ell} \\Bigg( C_{i\\ell}z_\\ell - \\frac{1}{b_k} C_{k\\ell} b_i \\Bigg) z_\\ell &= 0 \\\\\n",
    "\\tag{8}\n",
    "\\Longleftrightarrow & \\Big(C_i - \\frac{1}{b_k} C_k b_i\\Big) z &= 0 \n",
    "\\end{eqnarray}\n",
    "Now, if we set $J=[I_{k-1} \\,; 0] \\in \\mathcal{M}^{k-1 \\times k}$ (i.e. the canonical projector $\\mathbb{R}^k \\rightarrow \\mathbb{R}^{k-1}$), the previous equation is equivalent to:\n",
    "\\begin{equation}\n",
    "    J(C-(1/b_k)bC_k)z = C_{eq}z=0\n",
    "\\end{equation} where $C_k$ is the last row of $C$. Indeed, the sub-product $I_{k-1} \\cdot \\Big(C-(1/b_k)bC_k\\Big)$ represents the previous conditions $(8)$. $C_{eq}$ now defines the new linear constraint matrix. \n",
    "\n",
    "___\n",
    "Therefore, problem $(5)$ can be rewritten as:\n",
    "\\begin{equation}\n",
    "\\tag{9}\n",
    "    \\max_x x^{\\top}Wx \\hspace{0.5cm} \\text{s.t.} \\hspace{0.5cm} C_{eq}x=0, \\hspace{0.5cm} x^{\\top}x = ||x||^2 = 1\n",
    "\\end{equation}\n",
    "due to the invariance by translation of the Rayleigh Quotient.\n",
    "___\n",
    "\n",
    "The Lagrangian associated with $(9)$ is as follows: $$\\mathcal{L}(x; \\lambda, \\mu) = x^{\\top}Wx + \\lambda(1-||x||^2) + \\mu^{\\top}(-C_{eq}x)$$ Hence, \n",
    "\n",
    "\n",
    "\\begin{array}{cccl}\n",
    "     & \\nabla_x \\mathcal{L}(x; \\lambda, \\mu) &=& 2Wx - 2\\lambda x - \\mu^{\\top}C_{eq} = 0 \\\\\n",
    "     \\Longleftrightarrow &  2Wx &=& 2\\lambda x + C_{eq}^{\\top} \\mu \\\\\n",
    "     \\Longleftrightarrow &  2C_{eq}Wx &=& 2\\lambda C_{eq} x + C_{eq}C_{eq}^{\\top} \\mu \\\\\n",
    "     \\Longleftrightarrow &  \\mu &=& \\big( C_{eq}C_{eq}^{\\top} \\big)^{-1} \\big( 2C_{eq}Wx - 2\\lambda  C_{eq} x \\big) \\\\\n",
    "     \\Longrightarrow & 2Wx &=& 2\\lambda x + 2C_{eq}^{\\top} \\big(C_{eq}C_{eq}^{\\top} \\big)^{-1} C_{eq}\\Big(Wx -\\lambda x \\Big) \\\\\n",
    "     \\Longleftrightarrow & Wx - C_{eq}^{\\top} \\big(C_{eq}C_{eq}^{\\top} \\big)^{-1} C_{eq}Wx &=& \\lambda x - C_{eq}^{\\top} \\big(C_{eq}C_{eq}^{\\top} \\big)^{-1} C_{eq} \\lambda x \\\\\n",
    "     \\Longleftrightarrow & (I-C_{eq}^{\\top} \\big(C_{eq}C_{eq}^{\\top} \\big)^{-1} C_{eq})Wx &=& \\lambda (I-C_{eq}^{\\top} \\big(C_{eq}C_{eq}^{\\top} \\big)^{-1} C_{eq})x \\\\\n",
    "     \\Longleftrightarrow & P_C W x &:=& \\lambda P_C x\n",
    "\\end{array}\n",
    "\n",
    "From these derivations yield the final result that the solution of $(5)$ is  given by the leading eigenpair of \n",
    "\\begin{equation}\n",
    "    P_CWP_Cx = \\lambda x \n",
    "\\end{equation} as $P_Cx=x$ since $x$ verifies the linear constraint $C_{eq}x=0$. Here again, we use Perron-Frobenius theorem "
   ]
  },
  {
   "cell_type": "markdown",
   "metadata": {
    "colab_type": "text",
    "id": "tEchxxjHWErJ"
   },
   "source": [
    "The implementation of the SMAC basically consists in computing the matrix $P_c$ and reusing our implementation of the Spectral Matching algorithm."
   ]
  },
  {
   "cell_type": "code",
   "execution_count": 7,
   "metadata": {
    "colab": {},
    "colab_type": "code",
    "id": "5jWCYhHPWSnN"
   },
   "outputs": [],
   "source": [
    "def get_Pc_SMAC(C, b):\n",
    "    \"\"\"\n",
    "    :param C: Constraints matrix\n",
    "    :param b: value of each constrain\n",
    "    :return: Modified matrix Pc, as defined in Cour et al \n",
    "    \"\"\"\n",
    "    k = C.shape[0]\n",
    "    Ik = np.zeros((k-1, k))\n",
    "    Ik[:, :-1] = np.eye(k-1)\n",
    "    for i in range(k):\n",
    "        C[i] = C[i] - b[i]/b[-1]*C[-1]\n",
    "    Ceq = np.dot(Ik, C)\n",
    "    inv_C = np.linalg.inv(np.dot(Ceq, Ceq.T))\n",
    "    all_C = np.dot(Ceq.T, np.dot(inv_C, Ceq))\n",
    "    return np.eye(C.shape[1])-all_C\n",
    "  \n",
    "  \n",
    "def SMAC(W, Pc):\n",
    "    \"\"\"\n",
    "    :param W: Compatibility Matrix\n",
    "    :param Pc: Matrix obtained by transforming the constraint matrix, according to the paper\n",
    "    :return: leading eigenvector of Pc*W*Pc\n",
    "    \"\"\"\n",
    "    new_W = np.dot(Pc, np.dot(W, Pc))\n",
    "    return SM(new_W)\n"
   ]
  },
  {
   "cell_type": "markdown",
   "metadata": {
    "colab_type": "text",
    "id": "0LhUFZ9fqf3a"
   },
   "source": [
    "### Discretization"
   ]
  },
  {
   "cell_type": "markdown",
   "metadata": {
    "colab_type": "text",
    "id": "_Ck1gulGrsp0"
   },
   "source": [
    "SMAC is based on a continuous relaxation of the IQP. As such, a post-processing step is needed to discretize the continuous solution while satisfying the desired constraints. If we reshape the solution $x$ into a $n\\times n'$ matrix, then the constraints in $(4)$ can be rewritten as :\n",
    "\\begin{equation}\n",
    "    X \\mathbf{1_{n'}} = \\mathbf{1_{n'}}, \\hspace{1cm} X^{\\top} \\mathbf{1_n} = \\mathbf{1_{n}}, \\hspace{1cm} X \\in \\mathcal{O}(n,n'), \\hspace{1cm} X \\geq 0 \\, \\text{ elementwise}\n",
    "\\end{equation} where $\\mathbf{1_n}$ and $\\mathbf{1_{n'}}$ correspond to the constant $n$ and $n'$ dimensional vectors of all ones respectively. Let's assume now that $n=n'$. Then, one can remark that the previous constraints can be summarised by \\textbf{\"$X$ belongs to the set of permutation matrices\"} whose convex hull is the set of bistochastic matrices, where the the constraint $X \\in \\{0,1\\}^{n\\times n}$ is replaced by $X \\in [0,1]^{n\\times n}$. The authors propose to incorporate the first $3$ constraints (out of $4$)  as a post-processing step before the final discretisation. Let's focus on it through the general case where $n \\neq n'$. \\newline"
   ]
  },
  {
   "cell_type": "markdown",
   "metadata": {
    "colab_type": "text",
    "id": "htCDS-QBr97s"
   },
   "source": [
    "### Reshape"
   ]
  },
  {
   "cell_type": "markdown",
   "metadata": {
    "colab_type": "text",
    "id": "X1Y8S0sjr-WQ"
   },
   "source": [
    "The first step is to reshape the continuous solution $x$ into a $n\\times n'$ matrix $X$. "
   ]
  },
  {
   "cell_type": "markdown",
   "metadata": {
    "colab_type": "text",
    "id": "8cP6Kq9tsFP7"
   },
   "source": [
    "### Orthogonal approximation"
   ]
  },
  {
   "cell_type": "markdown",
   "metadata": {
    "colab_type": "text",
    "id": "TQ3vxcEEr-Qm"
   },
   "source": [
    "Then, one should compute the best orthogonal approximation $X_{orth}$ of $X$: \n",
    "\n",
    " \\begin{eqnarray}\n",
    "    X_{orth} &=& \\operatorname{argmin}_Q\\{\\|X-Q\\|_F : Q \\in O(n,n')\\}\n",
    " \\end{eqnarray}\n",
    " \n",
    " This can be done using the Singular Value Decomposition (SVD) of $X$, namely $X=U\\Sigma V^{\\top}$ where $U$ and $V$ are $2$ orthogonal matrices, $U \\in O(n), V \\in O(n'), \\Sigma \\in \\mathbb{R}^{n \\times n'}$. If we denote $p$ as $p=\\min(n,n')$, then $\\Sigma = \\text{diag}(\\sigma_1,...,\\sigma_p, 0, ..., 0)$ where $\\sigma_1,...,\\sigma_p$ are the singular values of $Q$ and are positive. We should show now the following key result from Procrustes theory applied to the strategy of discretization:\n",
    "\\begin{eqnarray}\n",
    " X_{orth} = UV^\\top\n",
    "\\end{eqnarray}\n",
    "\n",
    "\n",
    "\\hspace{-0.7cm} First, let's notice that \n",
    " $$X_{orth} = \\operatorname{argmin}_Q\\{\\|X-Q\\|_F : Q \\in O(n,n')\\} = \\operatorname{argmin}_Q\\{\\|X-Q\\|^2_F : Q \\in O(n,n')\\}$$\n",
    " Using the distributivity of the inner product (w.r.t to the Frobenius norm):\n",
    "\\begin{equation}\n",
    "\\begin{array}{ccl}\n",
    "    \\|X-Q\\|^2_F &=& \\langle X-Q,X-Q \\rangle_F\\\\\n",
    "    & = & \\|X\\|^2_F + \\|Q\\|^2_F - 2 \\langle X, Q \\rangle_F\n",
    "\\end{array}\n",
    "\\end{equation}\n",
    "With $$ \\|Q\\|^2_F = \\text{Tr}(Q^{\\top} Q) = \\text{Tr}(I_{n'\\times n'}) = n'$$ As the sum $\\|X\\|^2_F + n'$ does not depend on $Q$, the optimization problem can be simplified as follows:\n",
    "\\begin{equation}\n",
    "\\begin{array}{ccl}\n",
    "    Q^* = \\operatorname*{argmax}\\limits_{Q \\in O(n, n')} \\langle X, Q \\rangle_F\n",
    "\\end{array}\n",
    "\\end{equation}\n",
    "Now we can introduce the Singular-Value Decomposition of $X=U\\Sigma V^T$. \n",
    "\\begin{equation}\n",
    "\\begin{array}{ccl}\n",
    "    Q^* = \\operatorname*{argmax}\\limits_{Q \\in O(n, n')} \\langle Q, X \\rangle_F = \\operatorname*{argmax}\\limits_{Q \\in O(n, n')} \\langle Q, U\\Sigma V^T \\rangle_F\n",
    "\\end{array}\n",
    "\\end{equation}\n",
    "where $U \\in O(n), V \\in O(n'), \\Sigma \\in \\mathbb{R}^{n \\times n'}$. If we denote $p$ as $p=\\min(n,n')$, then $\\Sigma = \\text{diag}(\\sigma_1,...,\\sigma_p, 0, ..., 0)$ where $\\sigma_1,...,\\sigma_p$ are the singular values of $Q$. Now, using basic properties of the trace we have that:\n",
    "\\begin{equation*}\n",
    "\\begin{array}{ccl}\n",
    "    \\langle Q, U\\Sigma V^T \\rangle_F &=& \\mbox{Tr}([Q^{\\top}U][\\Sigma V^{\\top}]) \\\\\n",
    "    &=& \\mbox{Tr}([\\Sigma][V^{\\top} Q^{\\top} U]) \\\\\n",
    "    &=& \\mbox{Tr}(V^{\\top} Q^{\\top}U\\Sigma) \\\\\n",
    "    &=& \\mbox{Tr}((U^{\\top}QV)^{\\top}\\Sigma) \\\\\n",
    "    &:=& \\mbox{Tr}(Z^{\\top}\\Sigma) \\\\\n",
    "    &=& \\displaystyle \\sum_{i=1}^p Z_{ii} \\sigma_i \n",
    "\\end{array}\n",
    "\\end{equation*}\n",
    "As $Z:=U^{\\top}QV$ is a product of orthogonal matrix, it is still an $(n, n')$-dimensional rectangular orthogonal matrix whose rows' coefficients (or columns' coefficients) sum to 1 if $n \\leq n'$ (or $n' \\leq n$, due to linear dependence). So in any case $Z_{ii}\\leq1 \\, \\forall \\, i \\in \\{1,...,p\\}$. As maximizing in $Q$ is equivalent to maximizing in $Z$ (as $Z$ is a linear transformation of $Q$), we have that our final expression is maximal if and only if $Z_{ii}=1\\, \\forall \\, i=1,...,p$, that is to say $Z^{*}= U^{\\top}Q^*V= [I_{p\\times p}, 0]$ (if $n \\leq n'$, otherwise $[I_{p\\times p}, 0]^T)$. Which prooves that $Q^* = UV^{\\top}$. \\color{red} Conclusion à finir \\color{black}"
   ]
  },
  {
   "cell_type": "markdown",
   "metadata": {
    "colab_type": "text",
    "id": "ZMiUIYfzr-LY"
   },
   "source": [
    "### Affine constraint"
   ]
  },
  {
   "cell_type": "markdown",
   "metadata": {
    "colab_type": "text",
    "id": "wZeU_C1wr-G2"
   },
   "source": [
    "\\hspace{-0.7cm} Let's suppose that $u$ is left and right eigenvector of $X$. Hence, $u$ is an eigenvector of $X$ and $X^\\top$. Simple calculation allows to show that $u$ is then an eigenvector of both $XX^\\top$ and $X^\\top X$. By construction of the Singular Value Decomposition, the columns of $U$ are the eigenvectors of $XX^\\top$ and the columns of $V$ are the eigenvectors of $X^\\top X$. Then, $u$ is a column in $U$ and in $V$. Namely, $u$ is a left and right singular vector of $X$. Therefore, all other singular vectors in $U$ and $V$ are orthogonal to $u$. It yields $UV^\\top u = \\|u\\|^2 \\cdot u$ and so $X_{orth} u = \\|u\\|^2 \\cdot u$ as $X_{orth}$ is orthogonal. Reversely, we can show that $X_{orth} u = \\|u\\|^2 \\cdot u$. Hence, $u$ is left and right eigenvector of $X_orth$. Since $X_{orth}$ is orthogonal, $\\|u\\|^2=1$. Now, as $X$ verifies the $4$ constraints,  $\\mathbf{1}_n$ is a left and right eigenvector of $X$, and hence of $X_{orth}$. Finally, $X_{orth} \\mathbf{1}_n = \\mathbf{1}_n$ and $X_{orth}^\\top \\mathbf{1}_n = \\mathbf{1}_n$."
   ]
  },
  {
   "cell_type": "markdown",
   "metadata": {
    "colab_type": "text",
    "id": "cB-VNsVYbHjM"
   },
   "source": [
    "## Discretization step "
   ]
  },
  {
   "cell_type": "markdown",
   "metadata": {
    "colab_type": "text",
    "id": "194CT4Z7bLzd"
   },
   "source": [
    "As the algorithms we studied use continuous relaxation to propose a solution of our Integer Quadratic Problem, a supplementary step is necessary to convert this solution into an acceptable one. This means that we need to reintroduce the constraints and to provide a binary output.\n",
    "\n",
    "Now let's consider that our output is a $n\\times n'$ matrix (by reshaping it). For one to one matching, these constraints just imply that our output $n \\times n$ output must be a permutation matrix. This step can be handled with a simple 2 step procedure:\n",
    "\n",
    "* Run Graduated Assignment using the output of the first algorithm as the starter. If the algorithm is successful then the output should be transformed into a bistochastic matrix. This is very interesting a each row/column of the matrix can be interpreted as a marginal probability of one vertice of the first/second graph with the vertices of the other graphs.\n",
    "\n",
    "* If the output of GA is not a permutation matrix, run a new procedure based on a probability interpretation of the coefficients of the matrix. This procedure can either be greedy or randomized. We implemented different procedure introduced in  the paper cited by Cour et al.\n",
    "\n",
    "For this second step, a naive approach is a greedy selection of the coefficients that will be set to one: if a coefficient $x_{ij}$ is both the maximum of its row and column, then the matching $(i,  j)$ is the most probable for both vertices and hence it is reasonable to integrate it in our final solution.\n",
    "Unfortunately, this approach is often not sufficient to provide all assignments and it need to be completed with other tests. To this extent, we implemented a randomized procedure for the left vertices based on a simple sampling algorithm:\n",
    "* Draw uniformly at random one of the left vertices $i$ of the first graph\n",
    "* Extract the raw $x_i$, set the value of the already assigned elements $j$ of the second graph to zero and normalize the raw to get a probability vector $p_i$ of size $n$.\n",
    "* Draw a vertice $j$ with probability $p_i(j)$ and set $x_{ij}=1$ and $x_{i'j}=x_{ij'}=0$ for all others $i', j'$.\n",
    "* Restart the procedure while $x$ is not a permutation matrix\n",
    "\n",
    "We tested this procedure, which seems to provide good results. Our implementation is below. Actually, Cour et al. used another greedy procedure in their experiments QUE JE DETAILLERAI ET IMPLEMENTERAI SI J'AI LE TEMPS."
   ]
  },
  {
   "cell_type": "code",
   "execution_count": 9,
   "metadata": {},
   "outputs": [],
   "source": [
    "def discretize_one_to_one(W, n, x_res, is_GA=False, n_sampling = 100):\n",
    "    \"\"\"\n",
    "    :param W: Affinity matrix\n",
    "    :param x: Result from the first algorithm\n",
    "    :param is_GA: True if the first algorithm is Graduated Assignment\n",
    "    :return: Discretized solution for one to one matching (i.e a Permutation Matrix)\n",
    "    \"\"\"\n",
    "    if not is_GA:\n",
    "        x = GA_matrix(W, n, x0=x_res)\n",
    "    else:\n",
    "        x = copy(x_res)\n",
    "\n",
    "    # Check if the solution is already a permutation matrix\n",
    "    row_sum = np.dot(x.reshape((n, n)), np.ones(n))\n",
    "    col_sum = np.dot(x.reshape((n, n)).T, np.ones(n))\n",
    "    diff_row, diff_col = row_sum - np.ones(n), col_sum - np.ones(n)\n",
    "    if np.abs(diff_row).sum() == 0 and np.abs(diff_col).sum() == 0:\n",
    "        print('Output of GA is already permutation matrix')\n",
    "        return x\n",
    "\n",
    "    # Greedy procedure: if the max on rows is the max on columns then this permutation is in the solution\n",
    "    x = x.reshape((n, n))\n",
    "    max_row = np.argmax(x, axis=1)\n",
    "    max_col = np.argmax(x, axis=0)\n",
    "    row_solution = np.zeros((n, n))\n",
    "    col_solution = np.zeros((n, n))\n",
    "    for i in range(n):\n",
    "        row_solution[i, max_row[i]] = 1\n",
    "        col_solution[max_col[i], i] = 1\n",
    "    diff = np.abs(row_solution-col_solution).sum()\n",
    "    if diff == 0:\n",
    "        print('Greedy procedure successful: no conflict between rows and columns')\n",
    "        return row_solution.flatten()\n",
    "\n",
    "    # Randomized method based on Sampling for left vertices\n",
    "\n",
    "    X = row_solution*col_solution\n",
    "    unfilled_row = np.where(X.sum(axis=1) == 0)[0]\n",
    "    unfilled_col = np.where(X.sum(axis=0) == 0)[0]\n",
    "    if unfilled_row.shape[0] == 1:\n",
    "        X[unfilled_row[0], unfilled_row[0]] = 1\n",
    "        return X.flatten()\n",
    "\n",
    "    prob = x[unfilled_row][:, unfilled_col]\n",
    "    prob = np.apply_along_axis(lambda x: x/x.sum(), 1, prob)\n",
    "    r = np.arange(len(unfilled_row))\n",
    "    c = np.arange(len(unfilled_col))\n",
    "\n",
    "    current_obj = -np.inf\n",
    "    for k in range(n_sampling):\n",
    "        new_X = copy(X)\n",
    "        proba_row = np.ones(len(unfilled_row))/len(unfilled_row)\n",
    "        p = copy(prob)\n",
    "        res_r = []\n",
    "        res_c = []\n",
    "        for i in range(len(r)):\n",
    "            new_r = np.random.choice(r, p=proba_row)\n",
    "            new_c = np.random.choice(c, p=p[new_r])\n",
    "            res_r.append(new_r)\n",
    "            res_c.append(new_c)\n",
    "            proba_row[new_r] = 0\n",
    "            proba_row = proba_row/proba_row.sum()\n",
    "            p[:, new_c] = 0\n",
    "            p = np.apply_along_axis(lambda x: x/x.sum(), 1, p)\n",
    "\n",
    "        for i in range(len(unfilled_row)):\n",
    "            new_X[unfilled_row[res_r[i]], unfilled_col[res_c[i]]] = 1\n",
    "        new_x = new_X.flatten()\n",
    "        new_obj = np.dot(new_x.T, np.dot(W, new_x))\n",
    "        if new_obj > current_obj:\n",
    "            x = new_x\n",
    "            current_obj = new_obj\n",
    "    return x"
   ]
  },
  {
   "cell_type": "markdown",
   "metadata": {
    "colab_type": "text",
    "id": "40M3WSl9sv9N"
   },
   "source": [
    "## Computational cost"
   ]
  },
  {
   "cell_type": "markdown",
   "metadata": {
    "colab_type": "text",
    "id": "jx3-ncbQswRB"
   },
   "source": []
  },
  {
   "cell_type": "markdown",
   "metadata": {
    "colab_type": "text",
    "id": "yQAB36jq2U98"
   },
   "source": [
    "## Bistochastic normalization"
   ]
  },
  {
   "cell_type": "markdown",
   "metadata": {
    "colab_type": "text",
    "id": "ukSVhkqRBXtr"
   },
   "source": [
    "The second contribution of this article is called bistochastic normalization. Before giving more detailed information about this method, let's see the motivations and intuitions from which arise the need for normalization of the compatibility matrix $W$. To illustrate the need for some normalization of $W$, the authors consider 2 examples. The first one is the result of SMAC runs on real images. More precisely, they extract a set of feature points in two airplane images and, for each edge of plane 2 (top-right), plot the most similar edges on plane 1 (top-left). Blue arrows indicate edges with high similarity. We can notice 2 main groups of edges: \n",
    "* edges of type \"1\": they correspond to roughly horizontal edges in th 2 images. Horizontal edge $e$  (zoom on bottom-left image) from plane 2 has many correspondances with edges in plane 1. This edge is described as an *uninformative* edge as it can not be used to match a precise and restricted set of edges. \n",
    "* edges of type \"2\": on the contrary, those edges are considered as *informative*. They roughly correspond to informative or *distinctive* edges. Indeed, most similar edges (blue arrows in plane 1, bottom-right corner) are grouped in approximately 5 distant locations. \n",
    "Despite this clear distinction, informative edges contribution are \"outweighted\" by uninformative ones. This is due to the fact that $W$ is unbalanced.\n",
    "\n"
   ]
  },
  {
   "cell_type": "markdown",
   "metadata": {
    "colab_type": "text",
    "id": "rzKzL6vu2UuC"
   },
   "source": [
    "<center><img src=\"\n",
    "data:image/jpeg;base64,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\"  width=\"350\" ></center>\n",
    "<center> Figure 5: Examples of matching cliques. Source: Cour et al. (2005). </center>\n"
   ]
  },
  {
   "cell_type": "markdown",
   "metadata": {
    "colab_type": "text",
    "id": "xucXQ_UWmvxj"
   },
   "source": [
    "To illustrate a bit more the idea of imbalance in the structure of $W$, we reproduced the synthetic noise model example of the article from Cour et al. (2005) (figure 2 in the article). The following piece of code aims at implementing the Bistochastic Normalization. Without any further details yet, let's explain the benefit from the method through this simple example below. "
   ]
  },
  {
   "cell_type": "code",
   "execution_count": 0,
   "metadata": {
    "colab": {
     "base_uri": "https://localhost:8080/",
     "height": 976
    },
    "colab_type": "code",
    "id": "1t5tfQwyHZyF",
    "outputId": "8b6cdc06-d7cd-4242-a1b8-34114b58481e"
   },
   "outputs": [
    {
     "name": "stdout",
     "output_type": "stream",
     "text": [
      "Defining 2 isomorphic graphs with 3 nodes...\n",
      "\n"
     ]
    },
    {
     "data": {
      "image/png": "[encoded data removed]",
      "text/plain": [
       "<Figure size 720x216 with 2 Axes>"
      ]
     },
     "metadata": {
      "tags": []
     },
     "output_type": "display_data"
    },
    {
     "name": "stdout",
     "output_type": "stream",
     "text": [
      "\n",
      "Normalization...\n",
      "Time elapsed: 0.067 seconds\n",
      "\n"
     ]
    },
    {
     "data": {
      "image/png": "[encoded data removed]",
      "text/plain": [
       "<Figure size 720x720 with 4 Axes>"
      ]
     },
     "metadata": {
      "tags": []
     },
     "output_type": "display_data"
    }
   ],
   "source": [
    "######################Synthetic noise model example#############################\n",
    "# First, we import packages of interest for this example\n",
    "import numpy as np\n",
    "import matplotlib.pyplot as plt\n",
    "from skimage.util import view_as_blocks\n",
    "import networkx as nx\n",
    "from copy import copy\n",
    "import warnings\n",
    "import time\n",
    "warnings.filterwarnings('ignore')\n",
    "\n",
    "################################################################################\n",
    "\n",
    "# We create a synthetic function to display graph using networkx package\n",
    "def getGraph(nodes, edges, positions):\n",
    "    \"\"\"\n",
    "    :param nodes     : list, labels of nodes\n",
    "    :param edges     : list, list of tuples. A tuple represent any connection (undirected graph).\n",
    "    :param positions : list of tuples, (x, y) coordinates of nodes\n",
    "    \"\"\"\n",
    "    G = nx.DiGraph()\n",
    "    G.add_nodes_from(nodes)\n",
    "    G.add_edges_from(edges)\n",
    "    G = G.to_undirected()\n",
    "    pos = {}\n",
    "    for i, n in enumerate(nodes):\n",
    "      pos[n] = positions[i]\n",
    "    nx.draw(G, pos=pos, with_labels=True, font_weight='bold', node_size=1e3)\n",
    "\n",
    "# We display the 2 graphs of figure 2 (article)\n",
    "print('Defining 2 isomorphic graphs with 3 nodes...\\n')\n",
    "edges_G1 = [['1', '2'], ['1', '3'], ['2', '3']]\n",
    "edges_G2 = [[\"1'\", \"2'\"], [\"1'\", \"3'\"], [\"2'\", \"3'\"]]\n",
    "plt.figure(figsize=(10, 3))\n",
    "plt.subplot(1, 2, 1)\n",
    "getGraph(['1', '2', '3'], edges_G1, positions=[(2, 1), (1, 1.5), (1, 0.5)])\n",
    "plt.title('Graph G', fontsize=10)\n",
    "plt.subplot(1, 2, 2)\n",
    "getGraph([\"1'\", \"2'\", \"3'\"], edges_G2, positions=[(0, 1), (1, 1.5), (1, 0.5)])\n",
    "plt.title(\"Graph G'\", fontsize=10)\n",
    "plt.show()\n",
    "    \n",
    "################################################################################\n",
    "\n",
    "t = time.time()\n",
    "print('\\nNormalization...')\n",
    "# Then, we define W_b as a proxy of matrix W inspired from the gray colorscale\n",
    "# from middle image of figure 2 (Cour et al., 2005)\n",
    "W_b = np.array([[0, 0, 0, 0, 0, 0, 0, 0, 0, 0],\n",
    "                [0, 0.25, 1, 1, 1, 1, 1, 1, 1, 1],\n",
    "                [0, 0, 0, 0, 1, 1, 1, 1, 1, 1],\n",
    "                [0, 0, 0, 0, 1, 1, 1, 1, 1, 1],\n",
    "                [0, 0, 1, 1, 0, 1, 1, 0, 1, 1],\n",
    "                [0, 0.25, 0, 0, 0, 0.25, 0, 0, 0, 0.25],\n",
    "                [0, 0, 0, 0, 0, 0, 0, 0, 0, 0],\n",
    "                [0, 0, 1, 1, 0, 1, 1, 0, 1, 1],\n",
    "                [0, 0, 0, 0, 0, 0, 0, 0, 0, 0],\n",
    "                [0, 0.25, 0, 0, 0, 0.25, 0, 0, 0, 0.25]])\n",
    "\n",
    "# Now, we briefly define a method to transform W to S\n",
    "def WtoS(W, n1, n2):\n",
    "  \"\"\"\n",
    "  Transform compatibility matrix W to similarity matrix S\n",
    "  :param W  : np.array, compatibility matrix\n",
    "  :param n1 : np.array, number of vertices in first graph\n",
    "  :param n2 : np.array, number of vertices in second graph\n",
    "  :return   : np.array, similarity matrix S\n",
    "  \"\"\"\n",
    "  blocks = view_as_blocks(W,  block_shape=(n1, n1))\n",
    "  S = np.zeros((n1**2, n2**2))\n",
    "  for j in range(n2**2):\n",
    "        S[:, j] = blocks[j//n2, j % n2].flatten('F')\n",
    "  return S\n",
    "\n",
    "# Then, we apply it on W_b\n",
    "S_b = WtoS(W_b[:, 1:10][1:10], 3, 3)\n",
    "S_b = np.c_[np.zeros(S_b.shape[0]), S_b]    \n",
    "S_b = np.r_[[np.zeros(S_b.shape[1])], S_b]\n",
    "\n",
    "# Before implementing bistochastic normalization, we use norm_check\n",
    "# method\n",
    "def norm_check(x):\n",
    "  \"\"\"\n",
    "  \"\"\"\n",
    "  s = np.abs(x).sum()\n",
    "  if s > 0:\n",
    "    return x/s\n",
    "  else:\n",
    "    return x\n",
    "      \n",
    "def bistochastic_normalization(W, n1, n2, max_iter=100, tol=1e-4):\n",
    "  \"\"\"\n",
    "  Implement Bistochastic Normalization as described in section 5.2 in Cour et al. (2005)\n",
    "  :param W        : np.array, compatibility matrix\n",
    "  :param n1       : np.array, number of vertices in first graph\n",
    "  :param n2       : np.array, number of vertices in second graph\n",
    "  :param max_iter : int, maximal number of iterations (stopping criteria n°1) \n",
    "  :param tol      : float, precision threshold (stopping criteria n°2) \n",
    "  :return         : np.array, normalized compatibility matrix W\n",
    "  \"\"\"\n",
    "  blocks = view_as_blocks(W, (n1, n1))\n",
    "  S = np.zeros((n1**2, n2**2))\n",
    "  for j in range(n2**2):\n",
    "      S[:, j] = blocks[j//n2, j % n2].flatten('F')\n",
    "  err = np.inf\n",
    "  iter = 0\n",
    "  while iter < max_iter and err > tol:\n",
    "      old_S = copy(S)\n",
    "      S = np.apply_along_axis(norm_check, 1, S)\n",
    "      S = np.apply_along_axis(norm_check, 0, S)\n",
    "      err = np.sum(np.abs(S-old_S)**2)\n",
    "      iter += 1\n",
    "  W_blocks = [[S[:, n2*i+j].reshape((n1, n1)) for i in range(n2)] for j in range(n2)]\n",
    "  return np.block(W_blocks).T\n",
    "  \n",
    "# Now, we apply Bistochastic Normalization on W_b...\n",
    "W_a = bistochastic_normalization(W_b[:, 1:10][1:10], 3, 3) \n",
    "# ... and get S_a\n",
    "S_a = WtoS(W_a, 3, 3)\n",
    "# We also add first row and column of zeros to plot the indices\n",
    "S_a = np.c_[np.zeros(S_a.shape[0]), S_a]    \n",
    "S_a = np.r_[[np.zeros(S_a.shape[1])], S_a]  \n",
    "W_a = np.c_[np.zeros(W_a.shape[0]), W_a]    \n",
    "W_a = np.r_[[np.zeros(W_a.shape[1])], W_a] \n",
    "\n",
    "################################################################################\n",
    "\n",
    "# We define the indices to plot as texts on the images\n",
    "# For W\n",
    "coord_W = [\"(1, 1')\", \"(2, 1')\", \"(3, 1')\",\n",
    "           \"(1, 2')\", \"(2, 2')\", \"(3, 2')\",\n",
    "           \"(1, 3')\", \"(2, 3')\", \"(3, 3')\"]\n",
    "# For S\n",
    "coord_S_x = [\"(1, 1)\", \"(2, 1)\", \"(3, 1)\",\n",
    "             \"(1, 2)\", \"(2, 2)\", \"(3, 2)\",\n",
    "             \"(1, 3)\", \"(2, 3)\", \"(3, 3)\"]\n",
    "\n",
    "coord_S_y = [\"(1', 1')\", \"(1', 2')\", \"(1', 3')\",\n",
    "             \"(2', 1')\", \"(2', 2')\", \"(2', 3')\",\n",
    "             \"(3', 1')\", \"(3', 2')\", \"(3', 3')\"]\n",
    "\n",
    "# And plot the results in a similar fashion than the authors\n",
    "\n",
    "fig = plt.figure(figsize=(10, 10))\n",
    "\n",
    "# First subplot\n",
    "ax = fig.add_subplot(2, 2, 1)\n",
    "ax.imshow(1-W_b)\n",
    "for i in range(9):\n",
    "  text = ax.text(0, i+1, coord_W[i], ha=\"center\", va=\"center\", color=\"w\", fontsize='x-small')\n",
    "  text = ax.text(i+1, 0, coord_W[i], ha=\"center\", va=\"center\", color=\"w\", fontsize='x-small')\n",
    "ax.grid(False)\n",
    "ax.axis('off')\n",
    "ax.set_title('W before normalization')\n",
    "\n",
    "# Second subplot\n",
    "ax = fig.add_subplot(2, 2, 2)\n",
    "ax.imshow(1-S_b)\n",
    "for i in range(9):\n",
    "  text = ax.text(0, i+1, coord_S_x[i], ha=\"center\", va=\"center\", color=\"w\", fontsize='x-small')\n",
    "  text = ax.text(i+1, 0, coord_S_y[i], ha=\"center\", va=\"center\", color=\"w\", fontsize='x-small')\n",
    "ax.grid(False)\n",
    "ax.axis('off')\n",
    "ax.set_title('S before normalization')\n",
    "\n",
    "# Third subplot\n",
    "ax = fig.add_subplot(2, 2, 3)\n",
    "ax.imshow(1-W_a)\n",
    "for i in range(9):\n",
    "  text = ax.text(0, i+1, coord_W[i], ha=\"center\", va=\"center\", color=\"w\", fontsize='x-small')\n",
    "  text = ax.text(i+1, 0, coord_W[i], ha=\"center\", va=\"center\", color=\"w\", fontsize='x-small')\n",
    "ax.grid(False)\n",
    "ax.axis('off')\n",
    "ax.set_title('W after normalization')\n",
    "\n",
    "# Second subplot\n",
    "ax = fig.add_subplot(2, 2, 4)\n",
    "ax.imshow(1-S_a)\n",
    "for i in range(9):\n",
    "  text = ax.text(0, i+1, coord_S_x[i], ha=\"center\", va=\"center\", color=\"w\", fontsize='x-small')\n",
    "  text = ax.text(i+1, 0, coord_S_y[i], ha=\"center\", va=\"center\", color=\"w\", fontsize='x-small')\n",
    "ax.grid(False)\n",
    "ax.axis('off')\n",
    "ax.set_title('S after normalization')\n",
    "print('Time elapsed: {:2.3f} seconds\\n'.format(time.time()-t))\n",
    "fig.show()"
   ]
  },
  {
   "cell_type": "markdown",
   "metadata": {
    "colab_type": "text",
    "id": "FXPzrIT5wsOy"
   },
   "source": [
    "The previous synthetic noise model example consists in defining 2 isomorphic graphs with 3 nodes. Edges 12 and 13 are *uninformative* as they make connections to every other edges of the second graph $G'$. Those connections are caracterized by their similarity score $W_{ii',jj'} = f(A_{ij}, A'_{i'j'})$ which is directly proportional to a noise parameter $\\sigma \\geq 0$. White boxes represent the highest edges compatibility similarity score. As suggested by the authors, the similiarity function $f(\\cdot, \\cdot)$ can be interpreted in two ways:\n",
    "* a similarity between edges $ij \\in E$ and $i'j' \\in E'$\n",
    "* or a compatibility between match hypothesis $ii' \\in M$ and $jj' \\in M$.\n",
    "\n",
    "To this effect, we define the **similarity matrix** $S$ of size $m \\times m' $ as $S_{ij,i'j'} = f(A_{ij}, A'_{i'j'}) = W_{ii', jj'}$ (see figure 2 of the report for a visual interpretation).  In our opinion, $S$ is more suitable for vizualizing the similarity between edges of 2 graphs. Indeed, back to our example, we see from the 2 \"white\" lines of $S$ before normalization that  edges 12 and 13 are effectively quite non informative. So are the edges 1'2' and 1'3'. On the contrary, edges 23 is relatively similar to 2'3' (and not similar at all with the other edges). This is another example where $W$ is particularly unbalanced.  \n"
   ]
  },
  {
   "cell_type": "markdown",
   "metadata": {
    "colab_type": "text",
    "id": "TRwKr8A69j-m"
   },
   "source": [
    "\n",
    "<center><img src=\"data:image/jpeg;base64,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\"  width=\"350\" ></center>\n",
    "<center> Figure 4: example of unbalanced matrix $W$ through synthetic noise example. Source: Cour et al. (2005) </center>"
   ]
  },
  {
   "cell_type": "markdown",
   "metadata": {
    "colab_type": "text",
    "id": "OMDRA-Ca7FWS"
   },
   "source": [
    "This has a direct consequence on the accuracy of the matching, as shown in figure 4 of this report (right figure). When the noise is zero, white boxes are \"black\", meaning that most of the edges are not connected to one another. Matrix $S$, before normalization, is thus very sparse and has positive potentials only on edges $(1, 1), (1, 1')$;  $(2, 2), (2, 2')$;  $(3, 3), (3, 3')$ but most importantly on edges  $(2, 1), (2', 1')$;  $(3, 1), (3', 1')$ and $(3,2), (3', 2')$. Citing the authors: \"when the noise is small enough, the optimal matching is the desired permutation $p^* = \\{11',22',33'\\}$, with an initial score of 8 for $\\sigma=0$\". The latter computed the score of the second best permutation returned by the brute-force solving of the IQP as a function of noise level. From it, they displayed the difference between the graph matching score of 8 obtained before and the new optimal permutation depending on $\\sigma$. This corresponds to the *margin*. Firstly, we see that the margin is stricly decreasing in $\\sigma$ without the application of bistochastic normalization. In fact, for $\\sigma > \\sigma_0 \\approx 1.6$, $p*$ is no longer optimal because the non informative edges outweight matrix $W$ and thus strongly affect the resulting optimal solution $x^*$ found. We talk about *spurious* connections to qualify the connections between edges (in $W$) which are not accurate and considerably decrease the influence of the other distinctive edges. According to the authors, this is the \"main source of confusion for graph matching\" and bistochastic normalization (BN) aims at fixing it. On our simplistic example, it drastically improves the optimal permutation returned by the algorithm and yield a matching which is robust to large noises put in the model. "
   ]
  },
  {
   "cell_type": "markdown",
   "metadata": {
    "colab_type": "text",
    "id": "WSpE1pXA_u8K"
   },
   "source": [
    "When we talk about *influence*, we can refer to the similarity matrix $S$. Indeed, the previous example showed the benefit of bistochastic normalization on rebalancing the influence of the connections between edges. In particular, the 2 columns of high influence in $S$ have globally been reduced by half in our example, whereas accurate connections weight have been increased. As a conclusion, spurious connections have been removed and informative ones enhanced. \n",
    "\n",
    "Hence $S$ measures the influence of those edges in the compatibility matrix, and, as we said,  is more suitable for analysing it. \n",
    "\n",
    "Bistochastic normalisation thus makes full use of matrix $S$ in order to decrease the influence of *non discriminative* edges and, on the contrary, increase the influence of a *discriminative* which has a small number of good matches. "
   ]
  },
  {
   "cell_type": "markdown",
   "metadata": {
    "colab_type": "text",
    "id": "x_Ycrs6-BH2I"
   },
   "source": [
    "The principle of the bistochastic normalization is based on our previous observations: we would like, for SMAC and other relaxation methods to perform better, vertex and edge to match to a small number of vertices and edges respectively. In practise, this constraint would be very hard to apply. Nevertheless, Cour et al. (2005) suggest to normalize $S$ in such a way that to mimick this constraint. This corresponds to requiring $S$ to have each row and column \"sum to 1\", i.e., be bistochastic. However, $S$ can be rectangular of size $m \\times m'$ and accordingly can not be a classical permutation matrix whose rows and columns sum to 1 (and mostly can't be a square matrix). That's why Cour et al. define a matrix $B$ of size $m \\times m'$ as being **rectangular bistochastic** if it satisfies:\n",
    "$$B \\mathbf{1}_{m'} = \\mathbf{1}_m \\hspace{1cm} \\text{and} \\hspace{1cm} B \\mathbf{1}_{m} = \\frac{m}{m'}\\mathbf{1}_{m'}$$"
   ]
  },
  {
   "cell_type": "markdown",
   "metadata": {
    "colab_type": "text",
    "id": "8Ba3BOp5HvnE"
   },
   "source": [
    "The second contribution of the article is the following theorem:\n",
    "\n",
    "___\n",
    "___\n",
    "\n",
    "Under the condition $S >0$ elementwise, the problem consisting in finding $(D, D')$ such that $D$ and $D'$ are diagonal matrices of size $m, m'$ respectively and $DSD'$ is rectangular bistochastic, has a unique solution, $(D^*,D'^*)$ up to a scale factor. $D^*$ and $D'^*$ can be found by iteratively normalizing the rows and columns of $S$ as follows:\n",
    "\n",
    "\n",
    "1.   Input: compatibility matrix $W$ of size $nn' \\times nn'$\n",
    "\n",
    "2.  Convert $W$ to $S$ through $S_{ij,i'j'}=W_{ii',jj'}$\n",
    "\n",
    "3.   Repeat until convergence:\n",
    "> 3.1 Normalize rows of $S$: $S_{ij,i'j}'^{t+1} := S_{ij,i'j'}^{t} \\Big/  \\sum_{k'l'} S_{ij,k'l'}^{t}$\n",
    "> 3.2 Normalize columns of $S$: $S_{ij,i'j}'^{t+2} := S_{ij,i'j'}^{t+1} \\Big/  \\sum_{kl} S_{kl,i'j'}^{t+1}$\n",
    "\n",
    "4. Convert back $S$ to $W$\n",
    "\n",
    "5. Output: $W$ \n",
    "___\n",
    "___"
   ]
  },
  {
   "cell_type": "markdown",
   "metadata": {
    "colab_type": "text",
    "id": "VXgcYlLxLn9j"
   },
   "source": [
    "Let's now give a proof of the previous theorem. First, let's define the Kronecker product of a matrix $A$ of size $m \\times n$ with $B$ of size $p \\times q$ as the tensor product between $A$ and $B$. Namely, $$A \\otimes B = \\begin{pmatrix} a_{11} B & \\cdots & a_{1n}B \\\\ \\vdots & \\ddots & \\vdots \\\\ a_{m1} B & \\cdots & a_{mn} B \\end{pmatrix}$$\n",
    "We now transform $S$ into a square matrix of size $mm' \\times mm'$: $\\bar{S} = S  \\otimes  \\mathbf{1}_{m' \\times m}$ where $ \\mathbf{1}_{m' \\times m}$ is a matrix of ones of size $m' \\times m$. Moreover, as $W$ is nonngeative, $\\bar{S}$ is also nonnegative (elementwise). Cour et al. then use a very useful theorem in graph theory which was proposed and proved by Sinkhorn and Knopp in \"Concerning nonegative matrices and boudly stochastic matrices\" (1967). They showed the following result:\n",
    "\n",
    "*let $A$ be a nonnegative square matrix. A necessary and sufficient condition that there exists a doubly stochastic matrix $B$ of the form $D_1 A D_2$ where $D_1$ and $D_2$ are diagonal matrices with positive main diagonals is that $A$ has total support. If $B$ exists then it is unique. Also, $D_1$ and $D_2$ are unique up to a sclaiar multiple if and only if $A$ is fully indecomposable. A necessary and sufficient condition that the iterative process of alternately normalizaing the rows and columns of $A$ will converge to a doubly stocahstic limit is that $A$ has support. If $A$ has total support, this limit is the described matrix $D_1AD_2$. If $A$ has support which is not total, this limit cannot be of the form $D_1AD_2$.*\n",
    "\n",
    "\n"
   ]
  },
  {
   "cell_type": "markdown",
   "metadata": {
    "colab_type": "text",
    "id": "lrNATon7L7v5"
   },
   "source": [
    "Cour et al. apply this theorem to the square nonnegative matrix $\\bar{S}$. Under the hypothesis that $S>0$ elementwise, $\\bar{S}$ is also strictly positive elementwise. This allows to apply Sinkhorn et Knopp's theorem. Indeed, first, a matrix $A$ has total support if every $A_{ij} \\neq 0$ belongs to some positive diagonal of $A$. Or, $A$ does not have total support if and only if there exists $A_{ij} \\neq 0$ such that the submatrix obtained by deleting row $i$ and column $j$ has no positive diagonal. Here, all elements of $\\bar{S}$ are strictly positive, so the latter matrix has total support. Then, a matrix $A$ is said to be  irreductible if there exists *no* permutation matrix $P$ such that $P^{-1}AP$ is equal to a block upper triangular matrix. In other words, a matrix is irreductible if it is not reductible. A useful theorem proved in, for example, A. Horn and R. Johnson, \"Matrix analysis, second edition\" (2013), theorem 6.2.23 p. 403,  is the following characterization of irreductible matrix: given a matrix $A \\in M_n(\\mathbb{R}$ nonnegative, $A$ is irreductible if and only if the matrix $(I_n + |A|)^{n-1}$ is strictly positive. In fact, here, $\\bar{S}$ is strictly positive so, obviously, the latter condition is true. Hence, $\\bar{S}$ has total support and is irreductible: Sinkhorn et Knopp's conditions are satisfied.  \n",
    "\n"
   ]
  },
  {
   "cell_type": "markdown",
   "metadata": {
    "colab_type": "text",
    "id": "X1h3BkwWSt7t"
   },
   "source": [
    "Thus, there exists $2$ diagonal matrices of size $m \\times m'$ such that $D_1 \\bar{S} D_2$ is bistochastic. Now, let's remark that, as said by the authors, \"normalizing rows and columns of $\\bar{S}$ preserves kronecker structure\", namely, for two diagonal matrices $(D, D')$ of size $m, m'$ respectively :\n",
    "$$\\bar{D} \\bar{S} \\bar{D}' = (D \\otimes \\mathbf{1}_{m' \\times m'}) (S \\otimes \\mathbf{1}_{m' \\times m}) (D' \\otimes \\mathbf{1}_{m \\times m'}) = mm' DSD' \\otimes \\mathbf{1}_{m' \\times m})$$ Let's briefly proves it. As $D$ and $D'$ are diagonal matrix, $\\bar{D}$ and $\\bar{D}'$ are block diagonal matrix of size $m \\times m'$ with blocks of size $m' \\times m'$ and $m \\times m$ respectively. Thus, $\\bar{D} \\bar{S} \\bar{D}'$ is a block full matrix with blocks of size $m' \\times m$ equal to (we do write matrices of ones to avoid confusion):\n",
    "$$\\begin{pmatrix}\n",
    "D_{11} S_{11,1'1'} D'_{1'1'} & ... & D_{11} S_{11,m'm'} D'_{m'm'} \\\\\n",
    "D_{22} S_{21,1'1'} D'_{1'1'} & ... & D_{22}S_{21,m'm'} D'_{m'm'} \\\\\n",
    "\\vdots & \\vdots & \\vdots \\\\\n",
    "\\cdots & D_{ii} S_{ij,i'j'} D'_{j'j'} & ...  \\\\\n",
    "\\vdots & \\vdots & \\vdots \\\\\n",
    "D_{mm} S_{mm,1'1'} D'_{1'1'} & ... & D_{mm} S_{mm,m'm'} D'_{m'm'} \\\\\n",
    "\\end{pmatrix}$$\n",
    "where the general block term is equal to (exact formula with matrices of ones):\n",
    "$$D_{ii}S_{ij,i'j'}D'_{j'j'}\\mathbf{1}_{m' \\times m'} \\cdot  \\mathbf{1}_{m' \\times m} \\cdot \\mathbf{1}_{m \\times m'}$$ Simple calculus then shows that:\n",
    "$$\\mathbf{1}_{m' \\times m'} \\cdot  \\mathbf{1}_{m' \\times m} \\cdot \\mathbf{1}_{m \\times m'} = mm' \\mathbf{1}_{m' \\times m}$$ and thus $\\bar{D} \\bar{S} \\bar{D}'$ is a block matrix with general block term equal to:\n",
    "$$mm'  D_{ii}S_{ij,i'j'}D'_{j'j'} \\mathbf{1}_{m' \\times m}$$ which corresponds exactly to $mm' DSD' \\otimes \\mathbf{1}_{m' \\times m}$ and concludes the proof. "
   ]
  },
  {
   "cell_type": "markdown",
   "metadata": {
    "colab_type": "text",
    "id": "5h8qN15pTjYA"
   },
   "source": [
    "Now the authors state the following: * $(m^2 D, m' D')$ is solution for $S$ if and only if $(\\bar{D}, \\bar{D}')$ is solution for $\\bar{S}$.* Where \"solution for $S$\" means that, for example, $m^2 m' DSD'$ is rectangular bistochastic as defined earlier. Let's prove it.   "
   ]
  },
  {
   "cell_type": "markdown",
   "metadata": {
    "colab_type": "text",
    "id": "baG1ISoJXW2j"
   },
   "source": [
    "* Suppose that $m^2 m' DSD'$ is rectangular bistochastic.\n",
    "We first want to show that $\\bar{D} \\bar{S} \\bar{D}' \\mathbf{1}_{mm'} = \\mathbf{1}_{mm'} $. Based on our latter result, \n",
    "$$\\bar{D} \\bar{S} \\bar{D}' \\mathbf{1}_{mm'} = mm' DSD' \\otimes \\mathbf{1}_{m' \\times m} \\cdot \\mathbf{1}_{mm'}$$ Written in matrix form, the right-hand side term is a follows:\n",
    "\n",
    " \n",
    " \\begin{equation*}\n",
    "  mm' \\times  \\begin{array}{c@{\\!\\!\\!}l}\n",
    "  \\left( \\begin{array}[c]{ccccc}\n",
    "    md_{11} S_{11,1'1'} d'_{1'1'} &+ ... +& md_{11} S_{11,m'm'} d'_{m'm'}  \\\\ \n",
    "\\vdots & \\cdots & \\vdots\\\\\n",
    "md_{11} S_{11,1'1'} d'_{1'1'} &+ ... +& md_{11} S_{11,m'm'} d'_{m'm'}  \\\\\n",
    "md_{22} S_{21,1'1'} d'_{1'1'} &+ ... +& md_{22} S_{21,m'm'} d'_{m'm'}  \\\\ \n",
    "\\vdots & \\cdots & \\vdots\\\\\n",
    "md_{22} S_{21,1'1'} d'_{1'1'} &+ ... +& md_{22} S_{21,m'm'} d'_{m'm'}  \\\\ \n",
    "md_{mm} S_{mm,1'1'} d'_{1'1'} &+ ... +& md_{mm} S_{mm,m'm'} d'_{m'm'}  \\\\\n",
    "\\vdots & \\cdots & \\vdots\\\\\n",
    "md_{mm} S_{mm,1'1'} d'_{1'1'} &+ ... +& md_{mm} S_{mm,m'm'} d'_{m'm'}  \\\\\n",
    "  \\end{array}  \\right)\n",
    "\\end{array} \\hspace{0.5cm} =  \\hspace{0.5cm} m^2m' \\times  \\begin{array}{c@{\\!\\!\\!}l}\n",
    "  \\left( \\begin{array}[c]{ccccc}\n",
    "    d_{11} S_{11,1'1'} d'_{1'1'} &+ ... +& d_{11} S_{11,m'm'} d'_{m'm'}  \\\\ \n",
    "\\vdots & \\cdots & \\vdots\\\\\n",
    "d_{11} S_{11,1'1'} d'_{1'1'} &+ ... +& d_{11} S_{11,m'm'} d'_{m'm'}  \\\\\n",
    "d_{22} S_{21,1'1'} d'_{1'1'} &+ ... +& d_{22} S_{21,m'm'} d'_{m'm'}  \\\\ \n",
    "\\vdots & \\cdots & \\vdots\\\\\n",
    "d_{22} S_{21,1'1'} d'_{1'1'} &+ ... +& d_{22} S_{21,m'm'} d'_{m'm'}  \\\\ \n",
    "d_{mm} S_{mm,1'1'} d'_{1'1'} &+ ... +& d_{mm} S_{mm,m'm'} d'_{m'm'}  \\\\\n",
    "\\vdots & \\cdots & \\vdots\\\\\n",
    "d_{mm} S_{mm,1'1'} d'_{1'1'} &+ ... +& d_{mm} S_{mm,m'm'} d'_{m'm'}  \\\\\n",
    "  \\end{array}  \\right)\n",
    "&\n",
    " \\begin{array}[c]{@{}l@{\\,}l}\n",
    "\\left. \\begin{array}{c} \\vphantom{0} \\\\ \\vphantom{\\vdots}\n",
    "   \\\\ \\vphantom{0}  \\end{array} \\right\\} & \\text{$m'$ times} \\\\\n",
    "\\left. \\begin{array}{c} \\vphantom{0}\n",
    "  \\\\ \\vphantom{\\vdots} \\\\ \\vphantom{0} \\end{array} \\right\\} & \\text{$m'$ times} \\\\\n",
    "\\left. \\begin{array}{c} \\vphantom{0}\n",
    "  \\\\ \\vphantom{\\vdots} \\\\ \\vphantom{0} \\end{array} \\right\\} & \\text{$m'$ times}\n",
    "\\end{array}\n",
    "\\end{array} \n",
    "\\end{equation*}\n"
   ]
  },
  {
   "cell_type": "markdown",
   "metadata": {
    "colab_type": "text",
    "id": "P6mkaojFYmZF"
   },
   "source": [
    "But, we made the hypothesis that $m^2m'DSD'$ is rectangular bistochastic. Thus, $m'm^2DSD' \\mathbf{1}_m = \\mathbf{1}_m$ and it directly implies that each element of the above vector is equal to 1. Finally, we thus showed that $\\bar{D} \\bar{S} \\bar{D}' \\mathbf{1}_{mm'} = \\mathbf{1}_{mm'} $. Now, we need to prove that $\\Big(\\bar{D} \\bar{S} \\bar{D}' \\Big)^\\top\\mathbf{1}_{mm'} = \\mathbf{1}_{mm'} $. One may recall that a second implication of our hypothesis is that $m'm^2\\Big(DSD' \\Big)^\\top\\mathbf{1}_{m'} = (m/m') \\mathbf{1}_{m'}$ which is the same as $m'^2m\\Big(DSD' \\Big)^\\top\\mathbf{1}_{m'} = \\mathbf{1}_{m'}$. This second formulation is very similar to that of the other condition. In fact, if we apply the same reasoning as before with transposed matrix, we exactly fall back to the same proof as above. Once we proved the first characterization of the permutation matrix $\\bar{D} \\bar{S} \\bar{D}'$, the symmetric one is strainghtforward. Hence, we've just shown the left to right implication. It means that, if $(m^2 D, m'D')$ is a solution for normalizing $S$, then $(\\bar{D}, \\bar{D}')$ is a solution for normalizing $\\bar{S}$. Using the uniqueness of the decomposition into a bistochastic square matrix of $\\bar{S}$ according to Sinkhorn and Knopp's theorem, we have that $D_1=\\bar{D}$ and $D_2=\\bar{D}'$ up to a numerical constant that we omit here for more clarity. Now, let's prove the other way around."
   ]
  },
  {
   "cell_type": "markdown",
   "metadata": {
    "colab_type": "text",
    "id": "Xgmn_4X9XX3i"
   },
   "source": [
    "* Suppose that $\\bar{D} \\bar{S} \\bar{D}' $ is a square bistochastic matrix of size $mm' \\times mm'$.\n",
    "We first want to show that $m'm^2 DSD' \\mathbf{1}_{m} = \\mathbf{1}_{m} $. Once again, we base our proof on our first result, \n",
    "$$\\bar{D} \\bar{S} \\bar{D}' = mm' DSD' \\otimes \\mathbf{1}_{m' \\times m}$$ Our hypothesis implies that:\n",
    "$$\\bar{D} \\bar{S} \\bar{D}' \\mathbf{1}_{mm'} = mm' DSD' \\otimes \\mathbf{1}_{m' \\times m} \\cdot \\mathbf{1}_{mm'} = \\mathbf{1}_{mm'} $$\n",
    "\n",
    "Written in matrix form, this is equivalent to:\n",
    "\n",
    " \\begin{equation*}\n",
    "  m^2m' \\times  \\begin{array}{c@{\\!\\!\\!}l}\n",
    "  \\left( \\begin{array}[c]{ccccc}\n",
    "    d_{11} S_{11,1'1'} d'_{1'1'} &+ ... +& d_{11} S_{11,m'm'} d'_{m'm'}  \\\\ \n",
    "\\vdots & \\cdots & \\vdots\\\\\n",
    "d_{11} S_{11,1'1'} d'_{1'1'} &+ ... +& d_{11} S_{11,m'm'} d'_{m'm'}  \\\\\n",
    "d_{22} S_{21,1'1'} d'_{1'1'} &+ ... +& d_{22} S_{21,m'm'} d'_{m'm'}  \\\\ \n",
    "\\vdots & \\cdots & \\vdots\\\\\n",
    "d_{22} S_{21,1'1'} d'_{1'1'} &+ ... +& d_{22} S_{21,m'm'} d'_{m'm'}  \\\\ \n",
    "d_{mm} S_{mm,1'1'} d'_{1'1'} &+ ... +& d_{mm} S_{mm,m'm'} d'_{m'm'}  \\\\\n",
    "\\vdots & \\cdots & \\vdots\\\\\n",
    "d_{mm} S_{mm,1'1'} d'_{1'1'} &+ ... +& d_{mm} S_{mm,m'm'} d'_{m'm'}  \\\\\n",
    "  \\end{array}  \\right)\n",
    "& = & \\left( \\begin{array}[c]{c}\n",
    "1  \\\\\n",
    "\\vdots \\\\\n",
    "1  \\\\\n",
    "1 \\\\\n",
    "\\vdots \\\\\n",
    "1 \\\\\n",
    "1 \\\\ \n",
    "\\vdots \\\\\n",
    "1 \\\\\n",
    "\\end{array} \\right)\n",
    " \\begin{array}[c]{@{}l@{\\,}l}\n",
    "\\left. \\begin{array}{c} \\vphantom{0} \\\\ \\vphantom{\\vdots}\n",
    "   \\\\ \\vphantom{0}  \\end{array} \\right\\} & \\text{$m'$ times} \\\\\n",
    "\\left. \\begin{array}{c} \\vphantom{0}\n",
    "  \\\\ \\vphantom{\\vdots} \\\\ \\vphantom{0} \\end{array} \\right\\} & \\text{$m'$ times} \\\\\n",
    "\\left. \\begin{array}{c} \\vphantom{0}\n",
    "  \\\\ \\vphantom{\\vdots} \\\\ \\vphantom{0} \\end{array} \\right\\} & \\text{$m'$ times}\n",
    "\\end{array}\n",
    "\\end{array} \n",
    "\\end{equation*}\n"
   ]
  },
  {
   "cell_type": "markdown",
   "metadata": {
    "colab_type": "text",
    "id": "51QPSpM0XXm_"
   },
   "source": [
    "We clearly see that, on the $mm'$ conditions above, there are exactly $m$ unique conditions, more specifically:\n",
    "\n",
    " \\begin{equation*}\n",
    "  m^2m' \\times  \\begin{array}{c@{\\!\\!\\!}l}\n",
    "  \\left( \\begin{array}[c]{ccccc}\n",
    "    d_{11} S_{11,1'1'} d'_{1'1'} &+ ... +& d_{11} S_{11,m'm'} d'_{m'm'}  \\\\ \n",
    "\\vdots & \\cdots & \\vdots\\\\\n",
    "d_{mm} S_{mm,1'1'} d'_{1'1'} &+ ... +& d_{mm} S_{mm,m'm'} d'_{m'm'}  \\\\\n",
    "  \\end{array}  \\right)\n",
    "& = & \\left( \\begin{array}[c]{c}\n",
    "1  \\\\\n",
    "\\vdots \\\\\n",
    "1  \\\\\n",
    "\\end{array} \\right)\n",
    " \\begin{array}[c]{@{}l@{\\,}l}\n",
    "\\left. \\begin{array}{c} \\vphantom{0}\n",
    "  \\\\ \\vphantom{\\vdots} \\\\ \\vphantom{0} \\end{array} \\right\\} & \\text{$m$ times}\n",
    "\\end{array}\n",
    "\\end{array} \n",
    "\\end{equation*}\n",
    "which is equivalent to writing:  $m^2 m' DSD \\mathbf{1}_m = \\mathbf{1}_m$. We thus proved the first characterization of $(D, D')$ being a solution for $S$. The second is strainghtforward once we've done that. Indeed, we now want to prove that $m^2 m' \\Big(DSD\\Big)^\\top \\mathbf{1}_{m'} = \\frac{m}{m'}\\mathbf{1}_{m'}$ which is equivalent to showing that $m m'^2 \\Big(DSD\\Big)^\\top \\mathbf{1}_{m'} = \\mathbf{1}_{m'}$.\n"
   ]
  },
  {
   "cell_type": "markdown",
   "metadata": {
    "colab_type": "text",
    "id": "6Fb08J5AXXZz"
   },
   "source": [
    "Our hypothesis also implies that:\n",
    "$$\\Big(\\bar{D} \\bar{S} \\bar{D}'\\Big)^\\top \\mathbf{1}_{mm'} = mm' \\Big(DSD' \\otimes \\mathbf{1}_{m' \\times m} \\Big)^\\top \\cdot \\mathbf{1}_{mm'} = \\mathbf{1}_{mm'} $$\n",
    "\n",
    "Similarly to the previous derivations, we can write this in matrix form as:\n",
    "\n",
    " \\begin{equation*}\n",
    "  m'^2m \\times  \\begin{array}{c@{\\!\\!\\!}l}\n",
    "  \\left( \\begin{array}[c]{ccccc}\n",
    "    d_{11} S_{11,1'1'} d'_{1'1'} &+ ... +&  d_{mm} S_{mm,1'1'} d'_{1'1'}  \\\\ \n",
    "\\vdots & \\cdots & \\vdots\\\\\n",
    "    d_{11} S_{11,1'1'} d'_{1'1'} &+ ... +&  d_{mm} S_{mm,1'1'} d'_{1'1'}  \\\\ \n",
    " \\vdots & \\cdots & \\vdots\\\\   \n",
    "d_{11} S_{11,m'm'} d'_{m'm'} &+ ... +& d_{mm} S_{mm,m'm'} d'_{m'm'}  \\\\\n",
    "\\vdots & \\cdots & \\vdots\\\\\n",
    "d_{11} S_{11,m'm'} d'_{m'm'} &+ ... +& d_{mm} S_{mm,m'm'} d'_{m'm'}  \\\\\n",
    "  \\end{array}  \\right)\n",
    "& = & \\left( \\begin{array}[c]{c}\n",
    "1  \\\\\n",
    "\\vdots \\\\\n",
    "1  \\\\\n",
    "\\vdots \\\\\n",
    "1 \\\\\n",
    "\\vdots \\\\\n",
    "1 \\\\\n",
    "\\end{array} \\right)\n",
    " \\begin{array}[c]{@{}l@{\\,}l}\n",
    "\\left. \\begin{array}{c} \\vphantom{0} \\\\ \\vphantom{\\vdots}\n",
    "   \\\\ \\vphantom{0}  \\end{array} \\right\\} & \\text{$m$ times} \\\\ \\\\\n",
    "\\left. \\begin{array}{c} \\vphantom{0}\n",
    "  \\\\ \\vphantom{\\vdots} \\\\ \\vphantom{0} \\end{array} \\right\\} & \\text{$m$ times} \n",
    "\\end{array}\n",
    "\\end{array} \n",
    "\\end{equation*}\n",
    "Which represent $mm'$ redundant conditions but only $m'$ unique conditions:\n",
    " \\begin{equation*}\n",
    "  m'^2m \\times  \\begin{array}{c@{\\!\\!\\!}l}\n",
    "  \\left( \\begin{array}[c]{ccccc}\n",
    "    d_{11} S_{11,1'1'} d'_{1'1'} &+ ... +&  d_{mm} S_{mm,1'1'} d'_{1'1'}  \\\\ \n",
    "\\vdots & \\cdots & \\vdots\\\\\n",
    "d_{11} S_{11,m'm'} d'_{m'm'} &+ ... +& d_{mm} S_{mm,m'm'} d'_{m'm'}  \\\\\n",
    "  \\end{array}  \\right)\n",
    "& = & \\left( \\begin{array}[c]{c}\n",
    "1  \\\\\n",
    "\\vdots \\\\\n",
    "1  \\\\\n",
    "\\end{array} \\right)\n",
    " \\begin{array}[c]{@{}l@{\\,}l}\n",
    "\\left. \\begin{array}{c} \\vphantom{0} \\\\ \\vphantom{\\vdots}\n",
    "   \\\\ \\vphantom{0}  \\end{array} \\right\\} & \\text{$m'$ times}\n",
    "\\end{array}\n",
    "\\end{array} \n",
    "\\end{equation*} and is strictly equivalent to the more compact formulation: $m m'^2 \\Big(DSD\\Big)^\\top \\mathbf{1}_{m'} = \\mathbf{1}_{m'}$ and concludes the proof of the validity of bistochastic rectangular normalization algorithm."
   ]
  },
  {
   "cell_type": "markdown",
   "metadata": {
    "colab_type": "text",
    "id": "qzm4h8bzXXNY"
   },
   "source": [
    "Cour et al. here proove an important result which can be a generalization of Sinkhorn et Knopp's theorem to positive rectanguler matrix : if a matrix is positive rectangular, then, the algorithm which consists in normalizing successively the rows and columns of $S$ makes $S$ converge to rectangular bistochastic matrix which can be decomposed as $DSD'$ with $D, D'$ of size $m, m'$ respectively and obtained through the process of normalization. To come back to the proof, the fact that normalizing rows ans columns of $\\bar{S}$ preserves the kronecker structure is essential. To sum up, we showed that:\n",
    "\n",
    "1. $\\bar{S}$ can be decomposed as a bistochastic square matrix $D_1 \\bar{S} D_2$ by normalizing successively the rows and columns of $\\bar{S}$\n",
    "2. Then, normalizing rows ans columns of $\\bar{S}$ preserves the kronecker structure. It means that $(D, D')$ and $(\\bar{D}, \\bar{D'})$ are equivalent. In a sens that normalizing $\\bar{S}$ in such a way leads to a decomposition pair $(\\bar{D}, \\bar{D'})$ that can related to the decomposition pair $(D, D')$ obtained by normalizing $S$, thanks to kronecker strcture and up to a scale factor.\n",
    "3. Uniqueness of the decomposition of $\\bar{S}$ implies that $(D_1, D_2) = (\\bar{D}, \\bar{D'})$ thanks to Sinkhorn et Knopp's theorem. \n",
    "\n",
    "As a conclusion, the bistochastic normalization algorithm will converge to a bistochastic rectangular matrix. "
   ]
  },
  {
   "cell_type": "markdown",
   "metadata": {
    "colab_type": "text",
    "id": "krFS4W0CL9SE"
   },
   "source": [
    "## Experiments"
   ]
  },
  {
   "cell_type": "markdown",
   "metadata": {},
   "source": [
    "We tried the described algorithms with one-to-one matching problems for randomly generated graph with the addition of synthetic noise. We proceeded as follow:\n",
    "* Select a number of nodes $n$ and a number of edge $m$ for each graph G1 and G2\n",
    "* Randomly draw $m$ edges among the $n(n-1)/2$ possibilities (undirected graphs) for G1\n",
    "* Randomly draw a permutation $P$ of the vertices of the G1, such as each edge $(i, j)$ of G1 gives the edge $(P(i), P(j))$ for G2.\n",
    "* Assign independant attributes to each edge/vertice of G1 according to a probability distribution $Q$\n",
    "* Assign the same attribute for the corresponding edge/vertice of G2 with addition of a synthetic noise drawn according to a distribution $S_v$ for the vertices, then $S_e$ for the edges (which can depend on the realisation of the noise for the vertices. This gives the generic form of the attributes matrix:\n",
    "$$\n",
    "A_{P(i)P(i)} = A_{i, i}+ s_v(i)\n",
    "$$\n",
    "and\n",
    "$$\n",
    "A_{P(i)P(j)} = A_{i, j}+ s_e(i, j)\n",
    "$$\n",
    "With $s_v(i) \\sim S_v $ $\\forall i$ and $s_e(i, j) \\sim S_e(. |s_v(i), s_v(j))$ $ \\forall (i, j)$.\n",
    "\n",
    "As we saw in the first section, with all these elements we are able to compute the compatibility matrix $W$. For this, we only need to properly define a matching function $D_M: (x,y) \\rightarrow D_M(x,y)\\in \\mathbb{R}$. For each problem we defined we tested two versions of the algorithms: the first one using the \"raw\" $W$ and the second one using the bistochastic normalization, so we could compare the two methods.\n",
    "\n",
    "Our graph generation algorithms are below, along with a simple exponential distance metric."
   ]
  },
  {
   "cell_type": "code",
   "execution_count": 10,
   "metadata": {
    "colab": {
     "base_uri": "https://localhost:8080/",
     "height": 34
    },
    "colab_type": "code",
    "id": "eKLnNRYePiJR",
    "outputId": "2e9786b5-625d-4ae5-eb06-6e69a053cfe1"
   },
   "outputs": [],
   "source": [
    "def generate_random_graph(n, m, draw_attribute=np.random.uniform):\n",
    "    \"\"\"\n",
    "    :param n: number of vertices\n",
    "    :param m: number of edges\n",
    "    :param draw_attribute: Distribution for the parameter\n",
    "    :return: tuple (n, set of edges, attribute matrix A)\n",
    "    \"\"\"\n",
    "    edge_set = list(combinations(np.arange(n), 2))\n",
    "    edges_indices = np.random.choice(len(edge_set), replace=False, size=m)\n",
    "    edges = [edge_set[i] for i in edges_indices]\n",
    "    A = np.zeros((n, n))\n",
    "    for e in edges:\n",
    "        A[e[0], e[1]] = draw_attribute()\n",
    "    A = A+A.T\n",
    "    A += np.diag(draw_attribute(size=n))\n",
    "    return n, edges, A\n",
    "\n",
    "\n",
    "def get_perturbed_graph(graph, noise_level, draw_noise=np.random.uniform):\n",
    "    n, E, A = graph\n",
    "    indices = np.arange(n)\n",
    "    np.random.shuffle(indices)\n",
    "    Ep = []\n",
    "    Ap = np.zeros(A.shape)\n",
    "    for e in E:\n",
    "        new_e = (indices[e[0]], indices[e[1]])\n",
    "        Ep.append(new_e)\n",
    "        Ap[new_e[0], new_e[1]] = A[e[0], e[1]] + draw_noise(0, noise_level)\n",
    "    Ap = Ap + Ap.T\n",
    "    for i, x in enumerate(indices):\n",
    "        Ap[x, x] = A[i, i] + draw_noise(0, noise_level)\n",
    "    return n, Ep, Ap, indices\n",
    "\n",
    "\n",
    "def exp_dist(x, y):\n",
    "    return np.exp(-np.sum(np.abs(x-y)**2))"
   ]
  },
  {
   "cell_type": "markdown",
   "metadata": {
    "colab": {},
    "colab_type": "code",
    "id": "YtfVks1_slAD"
   },
   "source": [
    "Before further describing our experiments, we can detail the metrics that can be used to evaluate the algorithms. We were inspired by the different figures proposed in the original paper, and implemented:\n",
    "* A score computation, that provide the average percentage of correct matches for a given algorithm/experiment. We also added a little variant that provides the ratio of perfectly matched graph. These scores are obtained by considering the \"ground truth\" permutation used to sample G2 as the best matching. Not that depending of the noise and edge structure this may not actually be the best matching regarding to the data, but for reasonable noise it is generally the case.\n",
    "* A regret indicator by computing the average difference between the ground truth objective $x_P^T W x_P$ and the objective attained by the algorithm $x_{opt}^T W x_{opt}$. The idea is to approximate the indicator $\\mathbb{E}_{Q, S_v, S_e}(x_P^T W x_P-x_{opt}^T W x_{opt})$ for a given problem type. We could then compare these indicators for each algorithm and for different noise levels."
   ]
  },
  {
   "cell_type": "markdown",
   "metadata": {},
   "source": [
    "### Further description of our experiments and results"
   ]
  },
  {
   "cell_type": "markdown",
   "metadata": {},
   "source": [
    "In our experiments we mixed uniform and gaussian distributions for the attributes of G1 and the noise of G2. \n",
    "\n",
    "The attributes were distributed either according to a uniform $\\mathcal{U}([0,1])$ or a standard Gaussian $\\mathcal{N}(0, 1)$.\n",
    "\n",
    "The additional noise were always added with 0 means, such as the distribution can be summarized by only one parameter $\\sigma$: $n \\sim \\mathcal{U}([-\\sigma/2,\\sigma/2])$ or $n \\sim \\mathcal{N}(0, \\sigma^2)$. From now we will generally talk of \"a noise level of $\\sigma$\" in both cases for convenience, even if they do not represent the same quantity in practice ($V(n)=\\sigma^2$ for the gaussian and $V(n)= \\sigma^2/12$ for uniform).\n",
    "The functions below can generate these kind of graph."
   ]
  },
  {
   "cell_type": "code",
   "execution_count": 12,
   "metadata": {},
   "outputs": [],
   "source": [
    "def generate_random_graph(n, m, draw_attribute=np.random.uniform):\n",
    "    \"\"\"\n",
    "    :param n: number of vertices\n",
    "    :param m: number of edges\n",
    "    :param draw_attribute: Distribution for the parameter\n",
    "    :return: tuple (n, set of edges, attribute matrix A)\n",
    "    \"\"\"\n",
    "    edge_set = list(combinations(np.arange(n), 2))\n",
    "    edges_indices = np.random.choice(len(edge_set), replace=False, size=m)\n",
    "    edges = [edge_set[i] for i in edges_indices]\n",
    "    A = np.zeros((n, n))\n",
    "    for e in edges:\n",
    "        A[e[0], e[1]] = draw_attribute()\n",
    "    A = A+A.T\n",
    "    A += np.diag(draw_attribute(size=n))\n",
    "    return n, edges, A\n",
    "\n",
    "\n",
    "def get_perturbed_graph(graph, noise_param=(-1, 1), draw_noise=np.random.uniform):\n",
    "    \"\"\"\n",
    "    :param graph: First graph G1\n",
    "    :param noise_param: Parameters of the distribution of the noise \n",
    "    :param draw_noise: noise distribution \n",
    "    :return: Perturbed permutation of the initial graph\n",
    "    \"\"\"\n",
    "    n, E, A = graph\n",
    "    indices = np.arange(n)\n",
    "    np.random.shuffle(indices)\n",
    "    Ep = []\n",
    "    Ap = np.zeros(A.shape)\n",
    "    for e in E:\n",
    "        new_e = (indices[e[0]], indices[e[1]])\n",
    "        Ep.append(new_e)\n",
    "        Ap[new_e[0], new_e[1]] = A[e[0], e[1]] + draw_noise(*noise_param)\n",
    "    Ap = Ap + Ap.T\n",
    "    for i, x in enumerate(indices):\n",
    "        Ap[x, x] = A[i, i] + draw_noise(*noise_param)\n",
    "    return n, Ep, Ap, indices\n"
   ]
  },
  {
   "cell_type": "code",
   "execution_count": null,
   "metadata": {},
   "outputs": [],
   "source": []
  }
 ],
 "metadata": {
  "colab": {
   "collapsed_sections": [],
   "include_colab_link": true,
   "name": "CS_FILIOT_BAUDRY.ipynb",
   "provenance": [],
   "version": "0.3.2"
  },
  "kernelspec": {
   "display_name": "Python 3",
   "language": "python",
   "name": "python3"
  },
  "language_info": {
   "codemirror_mode": {
    "name": "ipython",
    "version": 3
   },
   "file_extension": ".py",
   "mimetype": "text/x-python",
   "name": "python",
   "nbconvert_exporter": "python",
   "pygments_lexer": "ipython3",
   "version": "3.6.6"
  }
 },
 "nbformat": 4,
 "nbformat_minor": 1
}
